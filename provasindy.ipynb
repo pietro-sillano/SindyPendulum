{
 "cells": [
  {
   "cell_type": "code",
   "execution_count": 6,
   "id": "e4af3499-e625-4daf-bf5d-71a40febb414",
   "metadata": {},
   "outputs": [],
   "source": [
    "from sindy_library_numpy import SINDyNew\n",
    "import numpy as np\n",
    "import itertools\n"
   ]
  },
  {
   "cell_type": "code",
   "execution_count": 8,
   "id": "b995ff3a-c8ec-4108-b98b-68c53becfb87",
   "metadata": {},
   "outputs": [],
   "source": [
    "sl = SINDyNew(   latent_dim=1,\n",
    "                 include_biases=False,\n",
    "                 include_states=False,\n",
    "                 include_sin=False,\n",
    "                 include_cos=False,\n",
    "                 include_multiply_pairs=False,\n",
    "                 poly_order=2,\n",
    "                 include_sqrt=False,\n",
    "                 include_inverse=False,\n",
    "                 include_sign_sqrt_of_diff=False,)"
   ]
  },
  {
   "cell_type": "code",
   "execution_count": 9,
   "id": "d24c0c52-b327-49cc-8464-943af8f9ead7",
   "metadata": {},
   "outputs": [
    {
     "data": {
      "text/plain": [
       "['z0*z0']"
      ]
     },
     "execution_count": 9,
     "metadata": {},
     "output_type": "execute_result"
    }
   ],
   "source": [
    "sl.feature_names"
   ]
  },
  {
   "cell_type": "code",
   "execution_count": 24,
   "id": "0f9a394b-d524-4867-b84f-b6c941074705",
   "metadata": {},
   "outputs": [
    {
     "data": {
      "text/plain": [
       "array([[1, 2, 3],\n",
       "       [4, 5, 6]])"
      ]
     },
     "execution_count": 24,
     "metadata": {},
     "output_type": "execute_result"
    }
   ],
   "source": [
    "x = np.array([[1,2,3],[4,5,6]])\n",
    "x"
   ]
  },
  {
   "cell_type": "code",
   "execution_count": 11,
   "id": "9d6462a5-5d20-4f6a-bb55-c97c61f8c199",
   "metadata": {},
   "outputs": [
    {
     "data": {
      "text/plain": [
       "array([[ 1],\n",
       "       [16]])"
      ]
     },
     "execution_count": 11,
     "metadata": {},
     "output_type": "execute_result"
    }
   ],
   "source": [
    "theta = sl.transform(x)\n",
    "theta"
   ]
  },
  {
   "cell_type": "code",
   "execution_count": 63,
   "id": "01c3d133-1404-403f-a9a7-344e62be075e",
   "metadata": {},
   "outputs": [
    {
     "data": {
      "text/plain": [
       "(3, 4)"
      ]
     },
     "execution_count": 63,
     "metadata": {},
     "output_type": "execute_result"
    }
   ],
   "source": [
    "theta.shape"
   ]
  },
  {
   "cell_type": "code",
   "execution_count": 90,
   "id": "9c79f54e-4610-47ee-8f8b-8cde12222d1f",
   "metadata": {},
   "outputs": [],
   "source": [
    "latent_dim = 3"
   ]
  },
  {
   "cell_type": "code",
   "execution_count": 91,
   "id": "44daebca-345c-4f73-9a01-3103592b248b",
   "metadata": {},
   "outputs": [
    {
     "data": {
      "text/plain": [
       "[0, 1, 2]"
      ]
     },
     "execution_count": 91,
     "metadata": {},
     "output_type": "execute_result"
    }
   ],
   "source": [
    "possible_indicies = list(range(latent_dim))\n",
    "possible_indicies"
   ]
  },
  {
   "cell_type": "code",
   "execution_count": 92,
   "id": "1e6d5772-f797-4fca-b37c-641b739bb660",
   "metadata": {},
   "outputs": [],
   "source": [
    "permuts = itertools.product(possible_indicies, possible_indicies)"
   ]
  },
  {
   "cell_type": "code",
   "execution_count": 95,
   "id": "0fd59d5a-050f-427f-8cd2-7b4f2ed134c5",
   "metadata": {},
   "outputs": [
    {
     "name": "stdout",
     "output_type": "stream",
     "text": [
      "(0, 1)\n",
      "(0, 2)\n",
      "(1, 0)\n",
      "(1, 2)\n",
      "(2, 0)\n",
      "(2, 1)\n"
     ]
    }
   ],
   "source": [
    "for p in permuts:\n",
    "    print(p)"
   ]
  },
  {
   "cell_type": "code",
   "execution_count": 96,
   "id": "72003d86-0ba7-4666-9ad8-04919d473b22",
   "metadata": {},
   "outputs": [
    {
     "data": {
      "text/plain": [
       "[(0, 1), (0, 2), (1, 0), (1, 2), (2, 0), (2, 1)]"
      ]
     },
     "execution_count": 96,
     "metadata": {},
     "output_type": "execute_result"
    }
   ],
   "source": [
    "permuts = [p for p in permuts if not p[0] == p[1]]\n",
    "permuts"
   ]
  },
  {
   "cell_type": "code",
   "execution_count": 97,
   "id": "9722aac2-8a67-4807-b293-b89217340e89",
   "metadata": {},
   "outputs": [
    {
     "data": {
      "text/plain": [
       "[(0, 1), (0, 2), (1, 2)]"
      ]
     },
     "execution_count": 97,
     "metadata": {},
     "output_type": "execute_result"
    }
   ],
   "source": [
    "list(set([tuple(sorted(list(p))) for p in permuts]))"
   ]
  },
  {
   "cell_type": "code",
   "execution_count": null,
   "id": "0e9eaa8f-b0da-4c51-96b7-32d6932b81c2",
   "metadata": {},
   "outputs": [],
   "source": [
    "permuts = [p for p in permuts if not p[0] == p[1]]\n",
    "self.idx_combis_non_commutative = permuts\n",
    "self.idx_combis_commutative = list(set([tuple(sorted(list(p))) for p in permuts]))\n",
    "\n",
    "\n",
    "\n",
    "if self.poly_order == 2:\n",
    "    self.candidate_functions.append(self.poly_deg_2)\n",
    "    names = []\n",
    "    for i in range(self.latent_dim):\n",
    "        for j in range(i, self.latent_dim):\n",
    "\n",
    "    self.feature_names.extend(names)\n"
   ]
  },
  {
   "cell_type": "code",
   "execution_count": null,
   "id": "edbfe4d5-53d8-47ee-b8d1-53a2a1bcb597",
   "metadata": {},
   "outputs": [],
   "source": [
    "def poly_deg_2(z):\n",
    "    result = \n",
    "    for i in range(latent_dim):\n",
    "        for j in range(i, latent_dim):\n",
    "            print(res\n",
    "            res = z[:,i]*z[:,j]\n",
    "            res = res.reshape(-1, 1)\n",
    "            result.append(res)\n",
    "    return np.concatenate(result, axis=1)"
   ]
  },
  {
   "cell_type": "code",
   "execution_count": null,
   "id": "de1d9658-b92f-4188-9972-46a363ec9182",
   "metadata": {},
   "outputs": [],
   "source": []
  },
  {
   "cell_type": "code",
   "execution_count": null,
   "id": "01c36297-7a70-4c71-902b-6e584b3ec3c5",
   "metadata": {},
   "outputs": [],
   "source": []
  },
  {
   "cell_type": "code",
   "execution_count": 25,
   "id": "738c4d37-05cf-41c8-9386-a339fcb8fdf5",
   "metadata": {},
   "outputs": [],
   "source": [
    "from sindy_library import *\n",
    "import torch"
   ]
  },
  {
   "cell_type": "code",
   "execution_count": 45,
   "id": "3b4a38f7-7514-4d46-9d1d-f81c24e3f119",
   "metadata": {},
   "outputs": [],
   "source": [
    "sl = SINDyLibrary(latent_dim=1,\n",
    "                 include_biases=True,\n",
    "                 include_states=True,\n",
    "                 include_sin=False,\n",
    "                 include_cos=False,\n",
    "                 include_multiply_pairs=False,\n",
    "                 poly_order=2,\n",
    "                 include_sqrt=False,\n",
    "                 include_inverse=False,\n",
    "                 include_sign_sqrt_of_diff=False,\n",
    "                 device='cpu')"
   ]
  },
  {
   "cell_type": "code",
   "execution_count": 46,
   "id": "863bd057-d030-4d56-be28-582100122bcf",
   "metadata": {},
   "outputs": [
    {
     "data": {
      "text/plain": [
       "['1', 'z0', 'z0*z0']"
      ]
     },
     "execution_count": 46,
     "metadata": {},
     "output_type": "execute_result"
    }
   ],
   "source": [
    "sl.get_feature_names()"
   ]
  },
  {
   "cell_type": "code",
   "execution_count": 49,
   "id": "c6ff5a70-a929-4791-abb7-4f302fb88489",
   "metadata": {},
   "outputs": [
    {
     "data": {
      "text/plain": [
       "tensor([[0, 0]])"
      ]
     },
     "execution_count": 49,
     "metadata": {},
     "output_type": "execute_result"
    }
   ],
   "source": [
    "z = torch.tensor([[0,0], ])\n",
    "z"
   ]
  },
  {
   "cell_type": "code",
   "execution_count": 50,
   "id": "fd067f95-7c20-4731-bc86-eb040c1766d2",
   "metadata": {},
   "outputs": [
    {
     "data": {
      "text/plain": [
       "tensor([[1., 0., 0., 0.]])"
      ]
     },
     "execution_count": 50,
     "metadata": {},
     "output_type": "execute_result"
    }
   ],
   "source": [
    "theta = sl.transform(z)\n",
    "theta"
   ]
  },
  {
   "cell_type": "code",
   "execution_count": 21,
   "id": "0fd44c9e-68a0-43f1-a62c-9688cc96c3c1",
   "metadata": {},
   "outputs": [],
   "source": [
    "from sindy_utils import *"
   ]
  },
  {
   "cell_type": "code",
   "execution_count": 22,
   "id": "0bbf5b91-e6f3-44d5-a3b0-ff80a9434a60",
   "metadata": {},
   "outputs": [],
   "source": [
    "n = 1 #dimensione latente\n",
    "poly_order = 1"
   ]
  },
  {
   "cell_type": "code",
   "execution_count": 23,
   "id": "408329e5-768c-4f1d-9e86-36e08e47bdf3",
   "metadata": {},
   "outputs": [
    {
     "data": {
      "text/plain": [
       "1"
      ]
     },
     "execution_count": 23,
     "metadata": {},
     "output_type": "execute_result"
    }
   ],
   "source": [
    "library_size(n, poly_order, use_sine=False, include_constant=False)"
   ]
  },
  {
   "cell_type": "code",
   "execution_count": 24,
   "id": "3fc0fd51-961a-41e6-ac49-b4e287c7182a",
   "metadata": {},
   "outputs": [
    {
     "data": {
      "text/plain": [
       "array([[1, 2, 3],\n",
       "       [4, 5, 6]])"
      ]
     },
     "execution_count": 24,
     "metadata": {},
     "output_type": "execute_result"
    }
   ],
   "source": [
    "x = np.array([[1,2,3],[4,5,6]])\n",
    "x"
   ]
  },
  {
   "cell_type": "code",
   "execution_count": 5,
   "id": "075a9cc1-8e8d-425e-b44c-01d333565905",
   "metadata": {},
   "outputs": [
    {
     "data": {
      "text/plain": [
       "array([[1., 1., 2., 3.],\n",
       "       [1., 4., 5., 6.]])"
      ]
     },
     "execution_count": 5,
     "metadata": {},
     "output_type": "execute_result"
    }
   ],
   "source": [
    "sindy_library(x, poly_order, include_sine=False)"
   ]
  },
  {
   "cell_type": "code",
   "execution_count": 8,
   "id": "79482c3e-eed7-42c8-8358-81f12e535e2f",
   "metadata": {},
   "outputs": [
    {
     "name": "stdout",
     "output_type": "stream",
     "text": [
      "questo é 4.456e+00\n"
     ]
    }
   ],
   "source": [
    "a = 4.45643\n",
    "print(f'questo é {a:.3e}')"
   ]
  },
  {
   "cell_type": "code",
   "execution_count": null,
   "id": "ba80368d-03ea-4066-b03b-ab9ccc57c31d",
   "metadata": {},
   "outputs": [],
   "source": []
  },
  {
   "cell_type": "code",
   "execution_count": 1,
   "id": "64690561-b0c0-4b5e-82a9-bebf60c3b561",
   "metadata": {},
   "outputs": [],
   "source": [
    "import numpy as np"
   ]
  },
  {
   "cell_type": "code",
   "execution_count": 2,
   "id": "d7ab5318-25ea-4ced-8f0e-ab13b869ed7a",
   "metadata": {},
   "outputs": [
    {
     "data": {
      "text/plain": [
       "(10, 3, 4)"
      ]
     },
     "execution_count": 2,
     "metadata": {},
     "output_type": "execute_result"
    }
   ],
   "source": [
    "arrays = [np.random.randn(3, 4) for _ in range(10)]\n"
   ]
  },
  {
   "cell_type": "code",
   "execution_count": 5,
   "id": "89fce220-c9e1-4f19-8bac-aa827958f1eb",
   "metadata": {},
   "outputs": [
    {
     "data": {
      "text/plain": [
       "(3, 4, 10)"
      ]
     },
     "execution_count": 5,
     "metadata": {},
     "output_type": "execute_result"
    }
   ],
   "source": [
    "np.stack(arrays, axis=2).shape"
   ]
  },
  {
   "cell_type": "code",
   "execution_count": null,
   "id": "13efacd7-9df0-47a0-8335-cc702d197f50",
   "metadata": {},
   "outputs": [],
   "source": [
    "np.stack(arrays, axis=1).shape\n",
    "np.stack(arrays, axis=2).shape\n",
    "a = np.array([1, 2, 3])\n",
    "b = np.array([4, 5, 6])\n",
    "np.stack((a, b))\n",
    "np.stack((a, b), axis=-1)"
   ]
  },
  {
   "cell_type": "code",
   "execution_count": 7,
   "id": "0a5bf973-e097-45cf-a400-46262fae9eea",
   "metadata": {},
   "outputs": [],
   "source": [
    "a = np.array([1, 2, 3])\n",
    "b = np.array([4, 5, 6])\n"
   ]
  },
  {
   "cell_type": "code",
   "execution_count": 18,
   "id": "9630725d-30d0-4008-b0d0-e9cf4f99f4a0",
   "metadata": {},
   "outputs": [
    {
     "data": {
      "text/plain": [
       "array([[1, 2, 3],\n",
       "       [4, 5, 6],\n",
       "       [4, 5, 6]])"
      ]
     },
     "execution_count": 18,
     "metadata": {},
     "output_type": "execute_result"
    }
   ],
   "source": [
    "c = np.stack((a, b,b),axis = 0)\n",
    "c"
   ]
  },
  {
   "cell_type": "code",
   "execution_count": null,
   "id": "c4ea63f9-7108-4c3e-aff8-2a6c7725f0e2",
   "metadata": {},
   "outputs": [],
   "source": []
  }
 ],
 "metadata": {
  "kernelspec": {
   "display_name": "Python 3 (ipykernel)",
   "language": "python",
   "name": "python3"
  },
  "language_info": {
   "codemirror_mode": {
    "name": "ipython",
    "version": 3
   },
   "file_extension": ".py",
   "mimetype": "text/x-python",
   "name": "python",
   "nbconvert_exporter": "python",
   "pygments_lexer": "ipython3",
   "version": "3.9.9"
  }
 },
 "nbformat": 4,
 "nbformat_minor": 5
}
