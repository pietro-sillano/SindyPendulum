{
 "cells": [
  {
   "cell_type": "code",
   "execution_count": 11,
   "id": "9c5b9f38",
   "metadata": {},
   "outputs": [],
   "source": [
    "\n",
    "import os\n",
    "import argparse, sys\n",
    "import numpy as np\n",
    "from scipy.integrate import odeint\n",
    "import matplotlib.pyplot as plt"
   ]
  },
  {
   "cell_type": "code",
   "execution_count": 9,
   "id": "c6bbceae",
   "metadata": {},
   "outputs": [],
   "source": [
    "def select_ics(theta0,omegaics0):\n",
    "    ics = []\n",
    "    ics_not = []\n",
    "    for i in range(n_ics):\n",
    "        for j in range(n_ics):\n",
    "            lim = (np.abs((omega0[j]**2)/2 - np.cos(theta0[i])))\n",
    "            if lim <  0.99 :\n",
    "                ics.append((theta0[i],omega0[j]))\n",
    "            else:\n",
    "                ics_not.append((theta0[i],omega0[j]))\n",
    "    return ics,ics_not"
   ]
  },
  {
   "cell_type": "code",
   "execution_count": 61,
   "id": "533a08a1",
   "metadata": {},
   "outputs": [
    {
     "name": "stdout",
     "output_type": "stream",
     "text": [
      "0.5844\n"
     ]
    }
   ],
   "source": [
    "ta = 0.\n",
    "tb = 10.\n",
    "dt = 0.1 \n",
    "NX = 51\n",
    "NY = 51\n",
    "n_ics = 100\n",
    "t = np.arange(ta, tb ,dt)\n",
    "theta0 = np.linspace(-np.pi,np.pi,n_ics)\n",
    "omega0 = np.linspace(-2.1, 2.1,n_ics)\n",
    "\n",
    "ics,ics_not = select_ics(theta0,omega0)\n",
    "print(len(ics)/len(ics+ics_not))\n",
    "ics = np.array(ics)\n",
    "ics_not = np.array(ics_not)"
   ]
  },
  {
   "cell_type": "code",
   "execution_count": 52,
   "id": "578bc3bd",
   "metadata": {},
   "outputs": [
    {
     "data": {
      "text/plain": [
       "[<matplotlib.lines.Line2D at 0x7fbcba962f70>]"
      ]
     },
     "execution_count": 52,
     "metadata": {},
     "output_type": "execute_result"
    },
    {
     "data": {
      "image/png": "[encoded data removed]",
      "text/plain": [
       "<Figure size 432x288 with 1 Axes>"
      ]
     },
     "metadata": {
      "needs_background": "light"
     },
     "output_type": "display_data"
    }
   ],
   "source": [
    "plt.plot(ics[:,0],ics[:,1],'bo')\n",
    "plt.plot(ics_not[:,0],ics_not[:,1],'ro')"
   ]
  },
  {
   "cell_type": "code",
   "execution_count": null,
   "id": "7e3261bc",
   "metadata": {},
   "outputs": [],
   "source": []
  },
  {
   "cell_type": "code",
   "execution_count": null,
   "id": "8888b051",
   "metadata": {},
   "outputs": [],
   "source": []
  }
 ],
 "metadata": {
  "kernelspec": {
   "display_name": "Python 3 (ipykernel)",
   "language": "python",
   "name": "python3"
  },
  "language_info": {
   "codemirror_mode": {
    "name": "ipython",
    "version": 3
   },
   "file_extension": ".py",
   "mimetype": "text/x-python",
   "name": "python",
   "nbconvert_exporter": "python",
   "pygments_lexer": "ipython3",
   "version": "3.9.9"
  }
 },
 "nbformat": 4,
 "nbformat_minor": 5
}
