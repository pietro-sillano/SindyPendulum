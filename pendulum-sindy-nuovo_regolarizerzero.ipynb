{
 "cells": [
  {
   "cell_type": "markdown",
   "metadata": {
    "id": "evH6sjsxsKWE"
   },
   "source": [
    "# A pendulum video and autoencoder\n"
   ]
  },
  {
   "cell_type": "code",
   "execution_count": 1,
   "metadata": {
    "id": "trlxwPDloKs5",
    "tags": []
   },
   "outputs": [],
   "source": [
    "import os\n",
    "import argparse, sys\n",
    "import pandas as pd\n",
    "import numpy as np\n",
    "from scipy.integrate import odeint\n",
    "import matplotlib.pyplot as plt\n",
    "import torch\n",
    "import torch.nn as nn\n",
    "from torch.utils.data import Dataset, DataLoader, TensorDataset\n",
    "import numpy as np\n",
    "import sys\n",
    "syspath = 'SindyPendulum/'\n",
    "if syspath not in sys.path:\n",
    "    sys.path.append(syspath)\n",
    "    \n",
    "from sindy_library import SINDyLibrary"
   ]
  },
  {
   "cell_type": "code",
   "execution_count": 2,
   "metadata": {
    "id": "qNbEXw0Uo3zR",
    "outputId": "7eabf512-f2cf-4429-bc0e-9af2374ed4cd",
    "tags": []
   },
   "outputs": [
    {
     "name": "stdout",
     "output_type": "stream",
     "text": [
      "Using cuda device\n"
     ]
    }
   ],
   "source": [
    "# Get cpu or gpu device for training.\n",
    "device = \"cuda\" if torch.cuda.is_available() else \"cpu\"\n",
    "print(\"Using {} device\".format(device))"
   ]
  },
  {
   "cell_type": "markdown",
   "metadata": {
    "id": "8VneYLUfl5bz"
   },
   "source": [
    "# Data Generation"
   ]
  },
  {
   "cell_type": "code",
   "execution_count": 3,
   "metadata": {
    "tags": []
   },
   "outputs": [],
   "source": [
    "def pend(y, t,):\n",
    "    theta, omega = y\n",
    "    dydt = [omega, - np.sin(theta)]\n",
    "    return dydt\n",
    "\n",
    "def pend_damp(y, t,):\n",
    "    theta, omega = y\n",
    "    dydt = [omega, - np.sin(theta)-0.1*omega]\n",
    "    return dydt\n",
    "\n",
    "def select_ics(theta0,omegaics0):\n",
    "    ics = []\n",
    "    for i in range(n_ics):\n",
    "        for j in range(n_ics):\n",
    "            lim = (np.abs((omega0[j]**2)/2 - np.cos(theta0[i])))\n",
    "            if lim <  0.99 :\n",
    "                ics.append((theta0[i],omega0[j]))\n",
    "    return ics\n",
    "\n",
    "def wrap_to_pi(z):\n",
    "    z_mod = z % (2*np.pi)\n",
    "    subtract_m = (z_mod > np.pi) * (-2*np.pi)\n",
    "    return z_mod + subtract_m\n",
    "\n",
    "def image_gen(ics):\n",
    "    x = np.linspace(-1.5, 1.5, NX)\n",
    "    y = np.linspace(-1.5, 1.5, NY)\n",
    "    xx,yy = np.meshgrid(x, y)\n",
    "\n",
    "\n",
    "    data = np.empty([len(ics), len(t), len(x), len(y)],dtype = np.float32)\n",
    "    data2 = np.empty([len(ics), len(t), len(x), len(y)],dtype = np.float32)\n",
    "\n",
    "\n",
    "    for idx in range(len(ics)):\n",
    "        if(idx%100==0): print(idx,' su ', len(ics))\n",
    "        y0 = [ics[idx][0], ics[idx][1]]\n",
    "        sol = odeint(pend, y0,t)\n",
    "        theta = sol[:,0]\n",
    "        omega = sol[:,1]\n",
    "\n",
    "        temp = []\n",
    "        for i in range(len(theta)):\n",
    "            z = np.exp(- 20 *((xx - np.cos(theta[i] + np.pi/2))*(xx - \n",
    "                np.cos(theta[i] +np.pi/2))) - 20 * ((yy -np.sin(theta[i]+np.pi/2))*(yy -np.sin(theta[i]+np.pi/2))))\n",
    "            z = ((z - np.min(z))/(np.max(z)-np.min(z)))\n",
    "    \n",
    "            temp.append(z)\n",
    "        data[idx] = np.array(temp)\n",
    "        \n",
    "        temp = []\n",
    "        for i in range(len(omega)):            \n",
    "            exp = -20 * 2 * omega[i]*(np.cos(theta[i]+ np.pi/2) - np.sin(theta[i] + np.pi/2))\n",
    "            z = np.exp(- 20 *((xx - np.cos(theta[i] + np.pi/2))*(xx - \n",
    "                np.cos(theta[i] +np.pi/2))) - 20 * ((yy -np.sin(theta[i]+np.pi/2))*(yy -np.sin(theta[i]+np.pi/2))))\n",
    "            z = z * exp\n",
    "            z = ((z - np.min(z))/(np.max(z)-np.min(z)))\n",
    "            temp.append(z)\n",
    "        data2[idx] = np.array(temp)\n",
    "        \n",
    "    return data,data2"
   ]
  },
  {
   "cell_type": "code",
   "execution_count": 4,
   "metadata": {
    "tags": []
   },
   "outputs": [
    {
     "name": "stdout",
     "output_type": "stream",
     "text": [
      "0  su  3724\n",
      "100  su  3724\n",
      "200  su  3724\n",
      "300  su  3724\n",
      "400  su  3724\n",
      "500  su  3724\n",
      "600  su  3724\n",
      "700  su  3724\n",
      "800  su  3724\n",
      "900  su  3724\n",
      "1000  su  3724\n",
      "1100  su  3724\n",
      "1200  su  3724\n",
      "1300  su  3724\n",
      "1400  su  3724\n",
      "1500  su  3724\n",
      "1600  su  3724\n",
      "1700  su  3724\n",
      "1800  su  3724\n",
      "1900  su  3724\n",
      "2000  su  3724\n",
      "2100  su  3724\n",
      "2200  su  3724\n",
      "2300  su  3724\n",
      "2400  su  3724\n",
      "2500  su  3724\n",
      "2600  su  3724\n",
      "2700  su  3724\n",
      "2800  su  3724\n",
      "2900  su  3724\n",
      "3000  su  3724\n",
      "3100  su  3724\n",
      "3200  su  3724\n",
      "3300  su  3724\n",
      "3400  su  3724\n",
      "3500  su  3724\n",
      "3600  su  3724\n",
      "3700  su  3724\n"
     ]
    },
    {
     "data": {
      "text/plain": [
       "(186200, 729)"
      ]
     },
     "execution_count": 4,
     "metadata": {},
     "output_type": "execute_result"
    }
   ],
   "source": [
    "n_ics = 80\n",
    "    \n",
    "#COSTANTI e PARAMETRI\n",
    "ta = 0.\n",
    "tb = 5.\n",
    "dt = 0.1\n",
    "# tb = 10\n",
    "# dt = 0.1\n",
    "NX = 27\n",
    "NY = 27\n",
    "\n",
    "\n",
    "t = np.arange(ta, tb ,dt)\n",
    "theta0 = np.linspace(-np.pi,np.pi,n_ics)\n",
    "omega0 = np.linspace(-2.1, 2.1,n_ics)\n",
    "\n",
    "ics = select_ics(theta0,omega0)\n",
    "data,data2 = image_gen(ics)\n",
    "\n",
    "\n",
    "#questo reshape serve per mandare al autoencoder delle immagini flat\n",
    "#TODO verifica che sia corretto questo rehsape --> dovrebb essere ok fatto prova su colab\n",
    "X = data.reshape((len(ics) * len(t),NX * NY))\n",
    "Xdot = data2.reshape((len(ics) * len(t),NX * NY))\n",
    "X.shape"
   ]
  },
  {
   "cell_type": "code",
   "execution_count": 7,
   "metadata": {},
   "outputs": [
    {
     "data": {
      "text/plain": [
       "<matplotlib.colorbar.Colorbar at 0x7fa3bc3d89e8>"
      ]
     },
     "execution_count": 7,
     "metadata": {},
     "output_type": "execute_result"
    },
    {
     "data": {
      "image/png": "[encoded data removed]",
      "text/plain": [
       "<Figure size 432x288 with 2 Axes>"
      ]
     },
     "metadata": {
      "needs_background": "light"
     },
     "output_type": "display_data"
    }
   ],
   "source": [
    "#plt.imshow(X[123].reshape((51,51)))\n",
    "plt.imshow(X[123].reshape((27,27)))\n",
    "plt.colorbar()\n"
   ]
  },
  {
   "cell_type": "code",
   "execution_count": 8,
   "metadata": {},
   "outputs": [
    {
     "data": {
      "text/plain": [
       "<matplotlib.colorbar.Colorbar at 0x7fa26f409668>"
      ]
     },
     "execution_count": 8,
     "metadata": {},
     "output_type": "execute_result"
    },
    {
     "data": {
      "image/png": "[encoded data removed]",
      "text/plain": [
       "<Figure size 432x288 with 2 Axes>"
      ]
     },
     "metadata": {
      "needs_background": "light"
     },
     "output_type": "display_data"
    }
   ],
   "source": [
    "plt.imshow(Xdot[123].reshape((27,27)))\n",
    "plt.colorbar()"
   ]
  },
  {
   "cell_type": "code",
   "execution_count": 10,
   "metadata": {
    "id": "UW2N4TZTbYsO",
    "tags": []
   },
   "outputs": [
    {
     "data": {
      "text/plain": [
       "(torch.Size([186200, 729]), torch.Size([186200, 729]), torch.float32)"
      ]
     },
     "execution_count": 10,
     "metadata": {},
     "output_type": "execute_result"
    }
   ],
   "source": [
    "X = torch.from_numpy(X).float().to(device)\n",
    "Xdot = torch.from_numpy(Xdot).float().to(device)\n",
    "X.shape, Xdot.shape, X.dtype"
   ]
  },
  {
   "cell_type": "code",
   "execution_count": 11,
   "metadata": {
    "tags": []
   },
   "outputs": [
    {
     "data": {
      "text/plain": [
       "(167580, 18620)"
      ]
     },
     "execution_count": 11,
     "metadata": {},
     "output_type": "execute_result"
    }
   ],
   "source": [
    "val_size = round(X.shape[0] * 0.1)\n",
    "train_size = X.shape[0] - val_size\n",
    "train_size, val_size"
   ]
  },
  {
   "cell_type": "code",
   "execution_count": 40,
   "metadata": {
    "id": "B2vYJ447_sxQ",
    "tags": []
   },
   "outputs": [],
   "source": [
    "batch_size = 64\n",
    "my_dataset = TensorDataset(X,Xdot)"
   ]
  },
  {
   "cell_type": "code",
   "execution_count": 41,
   "metadata": {
    "tags": []
   },
   "outputs": [],
   "source": [
    "train_subset, val_subset = torch.utils.data.random_split(my_dataset, [train_size, val_size])\n",
    "\n",
    "train_loader = DataLoader(train_subset, shuffle=True, batch_size=batch_size)\n",
    "val_loader   = DataLoader(val_subset, shuffle=False, batch_size=batch_size)"
   ]
  },
  {
   "cell_type": "markdown",
   "metadata": {
    "id": "9lRG3Ea4CWWl"
   },
   "source": [
    "# Network\n",
    "\n",
    "\n"
   ]
  },
  {
   "cell_type": "code",
   "execution_count": 42,
   "metadata": {
    "id": "5ZSdKOTO8dFN",
    "tags": []
   },
   "outputs": [],
   "source": [
    "class Encoder(nn.Module):\n",
    "    def __init__(self, input_size,latent_dim):\n",
    "        super(Encoder, self).__init__()\n",
    "        self.fc1 = nn.Linear(input_size,128)\n",
    "        self.fc2 = nn.Linear(128,64)\n",
    "        self.fc3 = nn.Linear(64,32)\n",
    "        self.fc4 = nn.Linear(32,latent_dim)\n",
    "        self.initialize_weights()\n",
    "\n",
    "    def initialize_weights(self):\n",
    "        for m in self.modules():\n",
    "            print(m)\n",
    "            if isinstance(m, nn.Linear):\n",
    "                #nn.init.xavier_normal_(m.weight)\n",
    "                nn.init.kaiming_normal_(m.weight, a=0, mode='fan_in', nonlinearity='relu')\n",
    "                if m.bias is not None:\n",
    "                    nn.init.constant_(m.bias, 0.1)\n",
    "\n",
    "    def forward(self, x):\n",
    "        x = torch.relu(self.fc1(x))\n",
    "        x = torch.relu(self.fc2(x))\n",
    "        x = torch.relu(self.fc3(x))   \n",
    "        x = torch.relu(self.fc4(x))\n",
    "        return x \n",
    "\n",
    "class Decoder(nn.Module):\n",
    "    def __init__(self, input_size,latent_dim):\n",
    "        super(Decoder, self).__init__()\n",
    "        self.fc1 = nn.Linear(latent_dim,32)\n",
    "        self.fc2 = nn.Linear(32,64)\n",
    "        self.fc3 = nn.Linear(64,128)\n",
    "        self.fc4 = nn.Linear(128,input_size)\n",
    "        self.initialize_weights()\n",
    "\n",
    "    def forward(self, x):\n",
    "        x = torch.relu(self.fc1(x))\n",
    "        x = torch.relu(self.fc2(x))\n",
    "        x = torch.relu(self.fc3(x))   \n",
    "        x = torch.relu(self.fc4(x))\n",
    "        return x\n",
    "\n",
    "    def initialize_weights(self):\n",
    "        for m in self.modules():\n",
    "            if isinstance(m, nn.Linear):\n",
    "                #nn.init.xavier_normal_(m.weight)\n",
    "                nn.init.kaiming_normal_(m.weight, a=0, mode='fan_in', nonlinearity='relu')\n",
    "                if m.bias is not None:\n",
    "                    nn.init.constant_(m.bias, 0.1)\n",
    "\n",
    "class Autoencoder(nn.Module):\n",
    "    def __init__(self, input_size, latent_dim):\n",
    "        super(Autoencoder, self).__init__()\n",
    "        self.encoder = Encoder(input_size,latent_dim)\n",
    "        self.decoder = Decoder(input_size,latent_dim)\n",
    "        self.SINDyLibrary = SINDyLibrary(\n",
    "            device=device,\n",
    "            latent_dim=latent_dim,\n",
    "            include_biases=True,\n",
    "            include_states=True,\n",
    "            include_sin=True,\n",
    "            include_cos=True,\n",
    "            include_multiply_pairs=False, #non ho capito cosa é ma conta due volte le coppie  \n",
    "            poly_order=2,\n",
    "            include_sqrt=False,\n",
    "            include_inverse=False,\n",
    "            include_sign_sqrt_of_diff=False)\n",
    "        \n",
    "\n",
    "        self.XI = nn.Parameter(torch.full((self.SINDyLibrary.number_candidate_functions,latent_dim),1.,dtype = torch.float32,requires_grad=True,device = device))\n",
    "\n",
    "        self.XI_coefficient_mask = torch.ones((self.SINDyLibrary.number_candidate_functions,latent_dim),dtype = torch.float32, device=device)\n",
    "\n",
    "    def configure_optimizers(self):\n",
    "        learning_rate = 1e-4\n",
    "        #return torch.optim.SGD(self.parameters(), lr=learning_rate)\n",
    "        return torch.optim.Adam(self.parameters(), lr=learning_rate)\n",
    "\n",
    "\n",
    "    def t_derivative(self,input, xdot, weights, biases, activation='sigmoid'):\n",
    "        \"\"\"\n",
    "        Compute the first order time derivatives by propagating through the network.\n",
    "        da[l]dt = xdot * da[l]dx = xdot * product(g'(w[l]a[l-1] + b[l])* w[l])\n",
    "        Arguments:\n",
    "            input - 2D tensorflow array, input to the network. Dimensions are number of time points\n",
    "            by number of state variables.\n",
    "            xdot - First order time derivatives of the input to the network. quello che conosciamo\n",
    "            weights - List of tensorflow arrays containing the network weights\n",
    "            biases - List of tensorflow arrays containing the network biases\n",
    "            activation - String specifying which activation function to use. Options are\n",
    "            'elu' (exponential linear unit), 'relu' (rectified linear unit), 'sigmoid',\n",
    "            or linear.\n",
    "\n",
    "        Returns:\n",
    "            dadt - Tensorflow array, first order time derivatives of the network output.\n",
    "        \"\"\"\n",
    "        a   = input\n",
    "        dadt = xdot #per le condizioni iniziali\n",
    "\n",
    "        if activation == 'sigmoid':\n",
    "            for i in range(len(weights) - 1):\n",
    "                z = torch.matmul(a, weights[i].T) + biases[i]\n",
    "                a = torch.sigmoid(z)\n",
    "                gprime = a * (1-a)\n",
    "                dadt = gprime * torch.matmul(dadt, weights[i].T)\n",
    "            dadt = torch.matmul(dadt, weights[-1].T) #fuori dal ciclo bisogna ancora moltiplicare per i pesi dell ultimo livello\n",
    "            \n",
    "        elif activation == 'relu':\n",
    "            for i in range(len(weights) - 1):\n",
    "                z = torch.matmul(a, weights[i].T) + biases[i]\n",
    "                a = torch.relu(z)\n",
    "                dadt = (z > 0).float() * torch.matmul(dadt, weights[i].T)    \n",
    "            dadt = torch.matmul(dadt, weights[-1].T) #fuori dal ciclo bisogna ancora moltiplicare per i pesi dell ultimo livello\n",
    "        return dadt #nel caso che ci serve dadt sará l output dell encoder ossia le latent variables!\n",
    "\n",
    "    \n",
    "    \n",
    "    def compute_quantities(self,x,xdot):\n",
    "    \n",
    "        z = self.encoder(x)\n",
    "        xtilde = self.decoder(z)\n",
    "\n",
    "        theta = self.SINDyLibrary.transform(z) \n",
    "        zdot_hat = torch.matmul(theta, self.XI_coefficient_mask * self.XI)\n",
    "        \n",
    "        encoder_parameters = list(self.encoder.parameters())\n",
    "        encoder_weight_list = [w for w in encoder_parameters if len(w.shape) == 2]\n",
    "        encoder_biases_list = [b for b in encoder_parameters if len(b.shape) == 1]\n",
    "        zdot = self.t_derivative(x, xdot, encoder_weight_list, encoder_biases_list, activation='sigmoid')                                               \n",
    "\n",
    "        #print(\"propagazione sul decoder\")\n",
    "        decoder_parameters = list(self.decoder.parameters())\n",
    "        decoder_weight_list = [w for w in decoder_parameters if len(w.shape) == 2]\n",
    "        decoder_biases_list = [b for b in decoder_parameters if len(b.shape) == 1]\n",
    "        xtildedot = self.t_derivative(z, zdot_hat, decoder_weight_list, decoder_biases_list, activation='sigmoid')    \n",
    "        \n",
    "        return xtilde, xtildedot, z, zdot, zdot_hat\n",
    "\n",
    "    def loss_function(self, x, xdot, xtilde, xtildedot, zdot, zdot_hat,XI):\n",
    "        mse = nn.MSELoss()\n",
    "        alpha1 = 5e-4\n",
    "        alpha2 = 5e-5\n",
    "        alpha3 = 1e-5\n",
    "\n",
    "\n",
    "        loss = {}\n",
    "        loss['recon_loss'] = mse(x, xtilde) #errore di ricostruzione \n",
    "        loss ['sindy_loss_x'] = mse(xdot, xtildedot) \n",
    "        loss ['sindy_loss_z'] = mse(zdot, zdot_hat) \n",
    "        loss['sindy_regular_loss'] = torch.sum(torch.abs(XI)) #norma L1 degli XI\n",
    "        loss['tot'] = loss['recon_loss'] + alpha1*loss['sindy_loss_x'] + alpha2*loss['sindy_loss_z'] + alpha3*loss['sindy_regular_loss']\n",
    "        tot = loss['tot']\n",
    "        return tot, loss\n",
    "    \n",
    "    def forward(self, x, xdot):\n",
    "        return self.compute_quantities(x, xdot)"
   ]
  },
  {
   "cell_type": "code",
   "execution_count": 43,
   "metadata": {
    "id": "c4mBzZuzxPYP",
    "tags": []
   },
   "outputs": [],
   "source": [
    "input_size = X.shape[1]\n",
    "latent_dim = 10"
   ]
  },
  {
   "cell_type": "code",
   "execution_count": 44,
   "metadata": {
    "id": "sOuh7zJeoRmH",
    "tags": []
   },
   "outputs": [
    {
     "name": "stdout",
     "output_type": "stream",
     "text": [
      "Encoder(\n",
      "  (fc1): Linear(in_features=729, out_features=128, bias=True)\n",
      "  (fc2): Linear(in_features=128, out_features=64, bias=True)\n",
      "  (fc3): Linear(in_features=64, out_features=32, bias=True)\n",
      "  (fc4): Linear(in_features=32, out_features=10, bias=True)\n",
      ")\n",
      "Linear(in_features=729, out_features=128, bias=True)\n",
      "Linear(in_features=128, out_features=64, bias=True)\n",
      "Linear(in_features=64, out_features=32, bias=True)\n",
      "Linear(in_features=32, out_features=10, bias=True)\n"
     ]
    }
   ],
   "source": [
    "model = Autoencoder(input_size,latent_dim).to(device)"
   ]
  },
  {
   "cell_type": "code",
   "execution_count": 45,
   "metadata": {
    "id": "8r_OGkXz2Mgl",
    "tags": []
   },
   "outputs": [
    {
     "data": {
      "text/plain": [
       "86"
      ]
     },
     "execution_count": 45,
     "metadata": {},
     "output_type": "execute_result"
    }
   ],
   "source": [
    "model.SINDyLibrary.number_candidate_functions"
   ]
  },
  {
   "cell_type": "code",
   "execution_count": 46,
   "metadata": {},
   "outputs": [],
   "source": [
    "#model.SINDyLibrary.get_feature_names()"
   ]
  },
  {
   "cell_type": "markdown",
   "metadata": {
    "id": "6ZqwZy2XmMum"
   },
   "source": [
    "# Parameters and Training\n"
   ]
  },
  {
   "cell_type": "code",
   "execution_count": 47,
   "metadata": {
    "id": "zrBLCBxXTPaa",
    "tags": []
   },
   "outputs": [],
   "source": [
    "def sequential_threshold(t):\n",
    "    if (t % seq_thres == 0 and t>1):\n",
    "        model.XI_coefficient_mask = torch.abs(model.XI) > 0.1"
   ]
  },
  {
   "cell_type": "code",
   "execution_count": 48,
   "metadata": {},
   "outputs": [],
   "source": [
    "def save_model(t):\n",
    "    if SAVE == True:\n",
    "        if t % saving_rate == 0 and t > 0:\n",
    "            print('salvataggio a ',t,\"epoche\")\n",
    "            f1 = path + 'model' + '_' + str(t) + 'epochs' + '.pt'\n",
    "            torch.save({\n",
    "            'epoch': t,\n",
    "            'model_state_dict': model.state_dict(),\n",
    "            'optimizer_state_dict': model.configure_optimizers().state_dict(),\n",
    "            'loss': model.loss_function,\n",
    "            'sindy_coefficients': model.XI,\n",
    "            'coefficient_mask' : model.XI_coefficient_mask\n",
    "            }, f1)\n",
    "            \n",
    "            XI = model.XI.cpu().detach().numpy()\n",
    "            np.save(path + 'model' + '_' + str(t) + 'epochs' + '.npy',XI)\n"
   ]
  },
  {
   "cell_type": "code",
   "execution_count": null,
   "metadata": {
    "tags": []
   },
   "outputs": [],
   "source": [
    "def print_model(t):\n",
    "    f = open(path + 'model_equation' + '_' + str(t) + '.txt', 'w')\n",
    "    coefficient_mask = model.XI_coefficient_mask.cpu().detach().numpy()\n",
    "    XI = model.XI.cpu().detach().numpy()\n",
    "    feature_list = model.SINDyLibrary.get_feature_names()\n",
    "    for j in range(latent_dim):\n",
    "        for i in range(len(feature_list)-1):\n",
    "            coeff = XI[i][j] * coefficient_mask[i][j]\n",
    "            if  abs(coeff) >= 0.1 and coeff != 0:\n",
    "                #print(f\"dz{j} = {coeff:.4f} {feature_list[i]}\")\n",
    "                f.write(f\"dz{j} = {coeff:.4f} {feature_list[i]}\\n\")\n",
    "    f.close()"
   ]
  },
  {
   "cell_type": "code",
   "execution_count": 50,
   "metadata": {},
   "outputs": [],
   "source": [
    "#training step for one epoch\n",
    "def train_step(loss_list):\n",
    "        \n",
    "    #queste serve per le loss di ogni batch\n",
    "    loss_epoch = {}\n",
    "    loss_epoch['recon_loss'] = []\n",
    "    loss_epoch['sindy_loss_x'] = []\n",
    "    loss_epoch['sindy_loss_z'] = []\n",
    "    loss_epoch['sindy_regular_loss'] = []\n",
    "    loss_epoch['tot'] = []\n",
    "    \n",
    "    model.train()\n",
    "    for batch, (X,Xdot) in enumerate (train_loader):\n",
    "        X.to(device) #per passarlo alla gpu\n",
    "        Xdot.to(device)\n",
    "        #forward pass \n",
    "        xtilde, xtildedot, z, zdot, zdot_hat = model(X,Xdot)\n",
    "\n",
    "        # Backpropagation\n",
    "        optimizer = model.configure_optimizers()\n",
    "        loss, loss_dict = model.loss_function(X, Xdot, xtilde, xtildedot, zdot, zdot_hat,model.XI)\n",
    "        loss.backward()\n",
    "        \n",
    "        optimizer.step()\n",
    "        optimizer.zero_grad()\n",
    "\n",
    "        for key in loss_epoch.keys():\n",
    "            loss_epoch[key].append(loss_dict[key].item())\n",
    "        \n",
    "        \n",
    "    for key in loss_epoch.keys():\n",
    "            loss_list[key].append(sum(loss_epoch[key])/len(loss_epoch[key]))\n",
    "            \n",
    "    del loss_epoch,loss_dict,xtilde, xtildedot, z, zdot, zdot_hat,loss"
   ]
  },
  {
   "cell_type": "code",
   "execution_count": 51,
   "metadata": {},
   "outputs": [],
   "source": [
    "def validation_step(loss_val_list):\n",
    "    loss_val_epoch = []\n",
    "    model.eval()     # Optional when not using Model Specific layer\n",
    "    for batch, (X,Xdot) in enumerate (val_loader):\n",
    "        X.to(device) #per passarlo alla gpu\n",
    "        Xdot.to(device)\n",
    "        #forward pass \n",
    "        xtilde, xtildedot, z, zdot, zdot_hat = model(X,Xdot)\n",
    "        # validation loss \n",
    "        loss, _ = model.loss_function(X, Xdot, xtilde, xtildedot, zdot, zdot_hat,model.XI)\n",
    "        loss_val_epoch.append(loss.item())\n",
    "        del  xtilde, xtildedot, z, zdot, zdot_hat,loss\n",
    "\n",
    "    loss_val_list.append(sum(loss_val_epoch)/len(loss_val_epoch))"
   ]
  },
  {
   "cell_type": "code",
   "execution_count": 52,
   "metadata": {},
   "outputs": [],
   "source": [
    "def print_loss(t):\n",
    "    if t % loss_rate == 0:\n",
    "        print()\n",
    "        print(f\"Epoch {t}\\n-------------------------------\")\n",
    "        for key in loss_list.keys():\n",
    "            temp = loss_list[key]\n",
    "            print(f'{key} of epoch {t}: {temp[-1]:.3e}')"
   ]
  },
  {
   "cell_type": "code",
   "execution_count": 53,
   "metadata": {},
   "outputs": [],
   "source": [
    "t = 1"
   ]
  },
  {
   "cell_type": "code",
   "execution_count": 54,
   "metadata": {},
   "outputs": [],
   "source": [
    "VALIDATION = False\n",
    "SAVE = True\n",
    "\n",
    "epochs = 2000\n",
    "path = '../model_zero/'\n",
    "\n",
    "seq_thres = 100   # numero epoche ogni quanto fare seq thres\n",
    "\n",
    "equation_rate = 100 #print delle equazioni trovate\n",
    "\n",
    "saving_rate = 100 # numero epoche in cui salvo il modello e gli XI\n",
    "\n",
    "loss_rate = 50  #print delle loss\n"
   ]
  },
  {
   "cell_type": "code",
   "execution_count": 55,
   "metadata": {},
   "outputs": [
    {
     "name": "stdout",
     "output_type": "stream",
     "text": [
      "epoch: 1\n",
      "epoch: 2\n",
      "epoch: 3\n",
      "epoch: 4\n",
      "epoch: 5\n",
      "epoch: 6\n",
      "epoch: 7\n",
      "epoch: 8\n",
      "epoch: 9\n",
      "epoch: 10\n",
      "epoch: 11\n",
      "epoch: 12\n",
      "epoch: 13\n",
      "epoch: 14\n",
      "epoch: 15\n",
      "epoch: 16\n",
      "epoch: 17\n",
      "epoch: 18\n",
      "epoch: 19\n",
      "epoch: 20\n",
      "epoch: 21\n",
      "epoch: 22\n"
     ]
    },
    {
     "ename": "KeyboardInterrupt",
     "evalue": "",
     "output_type": "error",
     "traceback": [
      "\u001b[0;31m---------------------------------------------------------------------------\u001b[0m",
      "\u001b[0;31mKeyboardInterrupt\u001b[0m                         Traceback (most recent call last)",
      "\u001b[0;32m<ipython-input-55-3c7fa7c00f1f>\u001b[0m in \u001b[0;36m<module>\u001b[0;34m\u001b[0m\n\u001b[1;32m     10\u001b[0m \u001b[0;32mwhile\u001b[0m \u001b[0mt\u001b[0m \u001b[0;34m<=\u001b[0m \u001b[0mepochs\u001b[0m\u001b[0;34m:\u001b[0m\u001b[0;34m\u001b[0m\u001b[0;34m\u001b[0m\u001b[0m\n\u001b[1;32m     11\u001b[0m     \u001b[0mprint\u001b[0m\u001b[0;34m(\u001b[0m\u001b[0;34m\"epoch:\"\u001b[0m\u001b[0;34m,\u001b[0m\u001b[0mt\u001b[0m\u001b[0;34m)\u001b[0m\u001b[0;34m\u001b[0m\u001b[0;34m\u001b[0m\u001b[0m\n\u001b[0;32m---> 12\u001b[0;31m     \u001b[0mtrain_step\u001b[0m\u001b[0;34m(\u001b[0m\u001b[0mloss_list\u001b[0m\u001b[0;34m)\u001b[0m\u001b[0;34m\u001b[0m\u001b[0;34m\u001b[0m\u001b[0m\n\u001b[0m\u001b[1;32m     13\u001b[0m \u001b[0;34m\u001b[0m\u001b[0m\n\u001b[1;32m     14\u001b[0m     \u001b[0mvalidation_step\u001b[0m\u001b[0;34m(\u001b[0m\u001b[0mloss_val_list\u001b[0m\u001b[0;34m)\u001b[0m\u001b[0;34m\u001b[0m\u001b[0;34m\u001b[0m\u001b[0m\n",
      "\u001b[0;32m<ipython-input-50-dd3d45620200>\u001b[0m in \u001b[0;36mtrain_step\u001b[0;34m(loss_list)\u001b[0m\n\u001b[1;32m     15\u001b[0m         \u001b[0mXdot\u001b[0m\u001b[0;34m.\u001b[0m\u001b[0mto\u001b[0m\u001b[0;34m(\u001b[0m\u001b[0mdevice\u001b[0m\u001b[0;34m)\u001b[0m\u001b[0;34m\u001b[0m\u001b[0;34m\u001b[0m\u001b[0m\n\u001b[1;32m     16\u001b[0m         \u001b[0;31m#forward pass\u001b[0m\u001b[0;34m\u001b[0m\u001b[0;34m\u001b[0m\u001b[0;34m\u001b[0m\u001b[0m\n\u001b[0;32m---> 17\u001b[0;31m         \u001b[0mxtilde\u001b[0m\u001b[0;34m,\u001b[0m \u001b[0mxtildedot\u001b[0m\u001b[0;34m,\u001b[0m \u001b[0mz\u001b[0m\u001b[0;34m,\u001b[0m \u001b[0mzdot\u001b[0m\u001b[0;34m,\u001b[0m \u001b[0mzdot_hat\u001b[0m \u001b[0;34m=\u001b[0m \u001b[0mmodel\u001b[0m\u001b[0;34m(\u001b[0m\u001b[0mX\u001b[0m\u001b[0;34m,\u001b[0m\u001b[0mXdot\u001b[0m\u001b[0;34m)\u001b[0m\u001b[0;34m\u001b[0m\u001b[0;34m\u001b[0m\u001b[0m\n\u001b[0m\u001b[1;32m     18\u001b[0m \u001b[0;34m\u001b[0m\u001b[0m\n\u001b[1;32m     19\u001b[0m         \u001b[0;31m# Backpropagation\u001b[0m\u001b[0;34m\u001b[0m\u001b[0;34m\u001b[0m\u001b[0;34m\u001b[0m\u001b[0m\n",
      "\u001b[0;32m/opt/tljh/user/lib/python3.7/site-packages/torch/nn/modules/module.py\u001b[0m in \u001b[0;36m_call_impl\u001b[0;34m(self, *input, **kwargs)\u001b[0m\n\u001b[1;32m   1049\u001b[0m         if not (self._backward_hooks or self._forward_hooks or self._forward_pre_hooks or _global_backward_hooks\n\u001b[1;32m   1050\u001b[0m                 or _global_forward_hooks or _global_forward_pre_hooks):\n\u001b[0;32m-> 1051\u001b[0;31m             \u001b[0;32mreturn\u001b[0m \u001b[0mforward_call\u001b[0m\u001b[0;34m(\u001b[0m\u001b[0;34m*\u001b[0m\u001b[0minput\u001b[0m\u001b[0;34m,\u001b[0m \u001b[0;34m**\u001b[0m\u001b[0mkwargs\u001b[0m\u001b[0;34m)\u001b[0m\u001b[0;34m\u001b[0m\u001b[0;34m\u001b[0m\u001b[0m\n\u001b[0m\u001b[1;32m   1052\u001b[0m         \u001b[0;31m# Do not call functions when jit is used\u001b[0m\u001b[0;34m\u001b[0m\u001b[0;34m\u001b[0m\u001b[0;34m\u001b[0m\u001b[0m\n\u001b[1;32m   1053\u001b[0m         \u001b[0mfull_backward_hooks\u001b[0m\u001b[0;34m,\u001b[0m \u001b[0mnon_full_backward_hooks\u001b[0m \u001b[0;34m=\u001b[0m \u001b[0;34m[\u001b[0m\u001b[0;34m]\u001b[0m\u001b[0;34m,\u001b[0m \u001b[0;34m[\u001b[0m\u001b[0;34m]\u001b[0m\u001b[0;34m\u001b[0m\u001b[0;34m\u001b[0m\u001b[0m\n",
      "\u001b[0;32m<ipython-input-42-c972611cb3e2>\u001b[0m in \u001b[0;36mforward\u001b[0;34m(self, x, xdot)\u001b[0m\n\u001b[1;32m    153\u001b[0m \u001b[0;34m\u001b[0m\u001b[0m\n\u001b[1;32m    154\u001b[0m     \u001b[0;32mdef\u001b[0m \u001b[0mforward\u001b[0m\u001b[0;34m(\u001b[0m\u001b[0mself\u001b[0m\u001b[0;34m,\u001b[0m \u001b[0mx\u001b[0m\u001b[0;34m,\u001b[0m \u001b[0mxdot\u001b[0m\u001b[0;34m)\u001b[0m\u001b[0;34m:\u001b[0m\u001b[0;34m\u001b[0m\u001b[0;34m\u001b[0m\u001b[0m\n\u001b[0;32m--> 155\u001b[0;31m         \u001b[0;32mreturn\u001b[0m \u001b[0mself\u001b[0m\u001b[0;34m.\u001b[0m\u001b[0mcompute_quantities\u001b[0m\u001b[0;34m(\u001b[0m\u001b[0mx\u001b[0m\u001b[0;34m,\u001b[0m \u001b[0mxdot\u001b[0m\u001b[0;34m)\u001b[0m\u001b[0;34m\u001b[0m\u001b[0;34m\u001b[0m\u001b[0m\n\u001b[0m",
      "\u001b[0;32m<ipython-input-42-c972611cb3e2>\u001b[0m in \u001b[0;36mcompute_quantities\u001b[0;34m(self, x, xdot)\u001b[0m\n\u001b[1;32m    120\u001b[0m         \u001b[0mxtilde\u001b[0m \u001b[0;34m=\u001b[0m \u001b[0mself\u001b[0m\u001b[0;34m.\u001b[0m\u001b[0mdecoder\u001b[0m\u001b[0;34m(\u001b[0m\u001b[0mz\u001b[0m\u001b[0;34m)\u001b[0m\u001b[0;34m\u001b[0m\u001b[0;34m\u001b[0m\u001b[0m\n\u001b[1;32m    121\u001b[0m \u001b[0;34m\u001b[0m\u001b[0m\n\u001b[0;32m--> 122\u001b[0;31m         \u001b[0mtheta\u001b[0m \u001b[0;34m=\u001b[0m \u001b[0mself\u001b[0m\u001b[0;34m.\u001b[0m\u001b[0mSINDyLibrary\u001b[0m\u001b[0;34m.\u001b[0m\u001b[0mtransform\u001b[0m\u001b[0;34m(\u001b[0m\u001b[0mz\u001b[0m\u001b[0;34m)\u001b[0m\u001b[0;34m\u001b[0m\u001b[0;34m\u001b[0m\u001b[0m\n\u001b[0m\u001b[1;32m    123\u001b[0m         \u001b[0mzdot_hat\u001b[0m \u001b[0;34m=\u001b[0m \u001b[0mtorch\u001b[0m\u001b[0;34m.\u001b[0m\u001b[0mmatmul\u001b[0m\u001b[0;34m(\u001b[0m\u001b[0mtheta\u001b[0m\u001b[0;34m,\u001b[0m \u001b[0mself\u001b[0m\u001b[0;34m.\u001b[0m\u001b[0mXI_coefficient_mask\u001b[0m \u001b[0;34m*\u001b[0m \u001b[0mself\u001b[0m\u001b[0;34m.\u001b[0m\u001b[0mXI\u001b[0m\u001b[0;34m)\u001b[0m\u001b[0;34m\u001b[0m\u001b[0;34m\u001b[0m\u001b[0m\n\u001b[1;32m    124\u001b[0m \u001b[0;34m\u001b[0m\u001b[0m\n",
      "\u001b[0;32m~/SindyPendulum/sindy_library.py\u001b[0m in \u001b[0;36mtransform\u001b[0;34m(self, z)\u001b[0m\n\u001b[1;32m    140\u001b[0m \u001b[0;34m\u001b[0m\u001b[0m\n\u001b[1;32m    141\u001b[0m     \u001b[0;32mdef\u001b[0m \u001b[0mtransform\u001b[0m\u001b[0;34m(\u001b[0m\u001b[0mself\u001b[0m\u001b[0;34m,\u001b[0m \u001b[0mz\u001b[0m\u001b[0;34m)\u001b[0m\u001b[0;34m:\u001b[0m\u001b[0;34m\u001b[0m\u001b[0;34m\u001b[0m\u001b[0m\n\u001b[0;32m--> 142\u001b[0;31m       \u001b[0mtheta\u001b[0m \u001b[0;34m=\u001b[0m \u001b[0;34m[\u001b[0m\u001b[0mcand_func\u001b[0m\u001b[0;34m(\u001b[0m\u001b[0mz\u001b[0m\u001b[0;34m)\u001b[0m \u001b[0;32mfor\u001b[0m \u001b[0mcand_func\u001b[0m \u001b[0;32min\u001b[0m \u001b[0mself\u001b[0m\u001b[0;34m.\u001b[0m\u001b[0mcandidate_functions\u001b[0m\u001b[0;34m]\u001b[0m\u001b[0;34m\u001b[0m\u001b[0;34m\u001b[0m\u001b[0m\n\u001b[0m\u001b[1;32m    143\u001b[0m       \u001b[0mout\u001b[0m \u001b[0;34m=\u001b[0m  \u001b[0mtorch\u001b[0m\u001b[0;34m.\u001b[0m\u001b[0mcat\u001b[0m\u001b[0;34m(\u001b[0m\u001b[0mtheta\u001b[0m\u001b[0;34m,\u001b[0m \u001b[0maxis\u001b[0m\u001b[0;34m=\u001b[0m\u001b[0;36m1\u001b[0m\u001b[0;34m)\u001b[0m\u001b[0;34m\u001b[0m\u001b[0;34m\u001b[0m\u001b[0m\n\u001b[1;32m    144\u001b[0m       \u001b[0;32mreturn\u001b[0m \u001b[0mout\u001b[0m\u001b[0;34m\u001b[0m\u001b[0;34m\u001b[0m\u001b[0m\n",
      "\u001b[0;32m~/SindyPendulum/sindy_library.py\u001b[0m in \u001b[0;36m<listcomp>\u001b[0;34m(.0)\u001b[0m\n\u001b[1;32m    140\u001b[0m \u001b[0;34m\u001b[0m\u001b[0m\n\u001b[1;32m    141\u001b[0m     \u001b[0;32mdef\u001b[0m \u001b[0mtransform\u001b[0m\u001b[0;34m(\u001b[0m\u001b[0mself\u001b[0m\u001b[0;34m,\u001b[0m \u001b[0mz\u001b[0m\u001b[0;34m)\u001b[0m\u001b[0;34m:\u001b[0m\u001b[0;34m\u001b[0m\u001b[0;34m\u001b[0m\u001b[0m\n\u001b[0;32m--> 142\u001b[0;31m       \u001b[0mtheta\u001b[0m \u001b[0;34m=\u001b[0m \u001b[0;34m[\u001b[0m\u001b[0mcand_func\u001b[0m\u001b[0;34m(\u001b[0m\u001b[0mz\u001b[0m\u001b[0;34m)\u001b[0m \u001b[0;32mfor\u001b[0m \u001b[0mcand_func\u001b[0m \u001b[0;32min\u001b[0m \u001b[0mself\u001b[0m\u001b[0;34m.\u001b[0m\u001b[0mcandidate_functions\u001b[0m\u001b[0;34m]\u001b[0m\u001b[0;34m\u001b[0m\u001b[0;34m\u001b[0m\u001b[0m\n\u001b[0m\u001b[1;32m    143\u001b[0m       \u001b[0mout\u001b[0m \u001b[0;34m=\u001b[0m  \u001b[0mtorch\u001b[0m\u001b[0;34m.\u001b[0m\u001b[0mcat\u001b[0m\u001b[0;34m(\u001b[0m\u001b[0mtheta\u001b[0m\u001b[0;34m,\u001b[0m \u001b[0maxis\u001b[0m\u001b[0;34m=\u001b[0m\u001b[0;36m1\u001b[0m\u001b[0;34m)\u001b[0m\u001b[0;34m\u001b[0m\u001b[0;34m\u001b[0m\u001b[0m\n\u001b[1;32m    144\u001b[0m       \u001b[0;32mreturn\u001b[0m \u001b[0mout\u001b[0m\u001b[0;34m\u001b[0m\u001b[0;34m\u001b[0m\u001b[0m\n",
      "\u001b[0;32m~/SindyPendulum/sindy_library.py\u001b[0m in \u001b[0;36mpoly_deg_2\u001b[0;34m(self, z)\u001b[0m\n\u001b[1;32m     68\u001b[0m         \u001b[0;32mfor\u001b[0m \u001b[0mi\u001b[0m \u001b[0;32min\u001b[0m \u001b[0mrange\u001b[0m\u001b[0;34m(\u001b[0m\u001b[0mself\u001b[0m\u001b[0;34m.\u001b[0m\u001b[0mlatent_dim\u001b[0m\u001b[0;34m)\u001b[0m\u001b[0;34m:\u001b[0m\u001b[0;34m\u001b[0m\u001b[0;34m\u001b[0m\u001b[0m\n\u001b[1;32m     69\u001b[0m             \u001b[0;32mfor\u001b[0m \u001b[0mj\u001b[0m \u001b[0;32min\u001b[0m \u001b[0mrange\u001b[0m\u001b[0;34m(\u001b[0m\u001b[0mi\u001b[0m\u001b[0;34m,\u001b[0m \u001b[0mself\u001b[0m\u001b[0;34m.\u001b[0m\u001b[0mlatent_dim\u001b[0m\u001b[0;34m)\u001b[0m\u001b[0;34m:\u001b[0m\u001b[0;34m\u001b[0m\u001b[0;34m\u001b[0m\u001b[0m\n\u001b[0;32m---> 70\u001b[0;31m                     \u001b[0mres\u001b[0m \u001b[0;34m=\u001b[0m \u001b[0mz\u001b[0m\u001b[0;34m[\u001b[0m\u001b[0;34m:\u001b[0m\u001b[0;34m,\u001b[0m\u001b[0mi\u001b[0m\u001b[0;34m]\u001b[0m\u001b[0;34m*\u001b[0m\u001b[0mz\u001b[0m\u001b[0;34m[\u001b[0m\u001b[0;34m:\u001b[0m\u001b[0;34m,\u001b[0m\u001b[0mj\u001b[0m\u001b[0;34m]\u001b[0m\u001b[0;34m\u001b[0m\u001b[0;34m\u001b[0m\u001b[0m\n\u001b[0m\u001b[1;32m     71\u001b[0m                     \u001b[0mres\u001b[0m \u001b[0;34m=\u001b[0m \u001b[0mres\u001b[0m\u001b[0;34m.\u001b[0m\u001b[0mreshape\u001b[0m\u001b[0;34m(\u001b[0m\u001b[0;34m-\u001b[0m\u001b[0;36m1\u001b[0m\u001b[0;34m,\u001b[0m \u001b[0;36m1\u001b[0m\u001b[0;34m)\u001b[0m\u001b[0;34m\u001b[0m\u001b[0;34m\u001b[0m\u001b[0m\n\u001b[1;32m     72\u001b[0m                     \u001b[0mresult\u001b[0m\u001b[0;34m.\u001b[0m\u001b[0mappend\u001b[0m\u001b[0;34m(\u001b[0m\u001b[0mres\u001b[0m\u001b[0;34m)\u001b[0m\u001b[0;34m\u001b[0m\u001b[0;34m\u001b[0m\u001b[0m\n",
      "\u001b[0;31mKeyboardInterrupt\u001b[0m: "
     ]
    }
   ],
   "source": [
    "loss_list = {}\n",
    "loss_list['recon_loss'] = []\n",
    "loss_list['sindy_loss_x'] = []\n",
    "loss_list['sindy_loss_z'] = []\n",
    "loss_list['sindy_regular_loss'] = []\n",
    "loss_list['tot'] = []\n",
    "loss_val_list = []\n",
    "\n",
    "\n",
    "while t <= epochs:\n",
    "    print(\"epoch:\",t)\n",
    "    train_step(loss_list)\n",
    "    \n",
    "    validation_step(loss_val_list)\n",
    "    \n",
    "    print_loss(t)\n",
    "\n",
    "    save_model(t)\n",
    "    \n",
    "    sequential_threshold(t)\n",
    "    \n",
    "    if t % equation_rate == 0 and t>1:\n",
    "        print_model(t)\n",
    "        data = pd.DataFrame.from_dict(loss_list)\n",
    "        data.to_csv(path + 'data_'+str(t)+'epochs'+'.csv')\n",
    "    t = t + 1\n",
    "print(\"Done!\")"
   ]
  },
  {
   "cell_type": "code",
   "execution_count": null,
   "metadata": {},
   "outputs": [],
   "source": [
    "list(model.named_parameters())"
   ]
  },
  {
   "cell_type": "markdown",
   "metadata": {},
   "source": [
    "# LOAD models"
   ]
  },
  {
   "cell_type": "code",
   "execution_count": null,
   "metadata": {},
   "outputs": [],
   "source": [
    "save_model(t)"
   ]
  },
  {
   "cell_type": "code",
   "execution_count": 56,
   "metadata": {},
   "outputs": [
    {
     "data": {
      "text/plain": [
       "Parameter containing:\n",
       "tensor([[ 1.1271e-05,  6.5599e-03,  1.2202e-02,  1.4431e-04,  4.7406e-05,\n",
       "         -2.7708e-05,  1.7113e-05,  7.5515e-05,  1.9454e-04,  6.2652e-05],\n",
       "        [ 1.7395e-04, -2.7082e-04, -1.1467e-04, -7.6832e-05, -4.4830e-05,\n",
       "         -9.1452e-05,  9.5787e-05,  7.2177e-05,  1.0421e-04, -3.8364e-05],\n",
       "        [-7.4720e-05, -7.4709e-05, -7.4708e-05, -7.4714e-05, -7.4712e-05,\n",
       "         -7.4666e-05, -7.4711e-05, -7.4720e-05, -7.4717e-05, -7.4721e-05],\n",
       "        [-7.5907e-05, -7.3959e-05, -7.3964e-05, -7.7195e-05, -7.6877e-05,\n",
       "         -7.7212e-05, -7.5719e-05, -7.6289e-05, -7.6517e-05, -7.6685e-05],\n",
       "        [ 6.9510e-05,  3.4857e-05, -3.0195e-05,  8.7834e-05, -9.5061e-05,\n",
       "          7.2512e-05,  6.1618e-05,  3.4625e-05,  7.1275e-05, -3.4970e-05],\n",
       "        [ 8.1364e-05,  9.5410e-04,  9.9953e-04,  1.4610e-05, -8.3536e-05,\n",
       "         -1.4518e-05,  3.1336e-05,  1.5536e-04,  2.4264e-05, -6.7915e-05],\n",
       "        [ 1.2692e-04,  1.0753e-04,  1.4447e-04, -9.9059e-05,  3.0817e-05,\n",
       "          7.3508e-05,  1.6246e-04,  3.5435e-06,  1.3030e-04, -7.5003e-05],\n",
       "        [-5.1395e-05,  1.5293e-05, -8.5407e-05, -7.2263e-05, -6.8403e-05,\n",
       "         -7.3989e-05, -8.5157e-06, -5.7658e-05, -6.1659e-05, -6.6865e-05],\n",
       "        [-7.6816e-05,  4.3322e-04,  3.4226e-04,  3.4105e-05, -9.2413e-05,\n",
       "          1.1993e-05, -5.2156e-05, -4.7456e-05, -9.4890e-05, -3.0029e-05],\n",
       "        [ 5.8771e-05, -6.0349e-05, -1.1675e-04,  9.2062e-05, -9.1373e-05,\n",
       "          8.0522e-05, -4.8697e-05, -5.9179e-05,  5.8273e-05,  8.2711e-05],\n",
       "        [ 7.7199e-05,  5.9271e-04,  5.3503e-04,  1.8083e-05,  3.9083e-05,\n",
       "         -1.5371e-05,  6.6418e-05, -8.1307e-05, -5.6729e-05,  3.6983e-05],\n",
       "        [-9.1056e-05,  2.0806e-04,  1.3818e-04, -1.7639e-05, -4.8394e-05,\n",
       "          1.6856e-05, -1.6941e-04, -1.8490e-04, -5.5423e-05, -9.1157e-05],\n",
       "        [-7.4085e-05, -7.4083e-05, -7.4080e-05, -7.4061e-05, -7.4075e-05,\n",
       "         -7.3967e-05, -7.4089e-05, -7.4084e-05, -7.4080e-05, -7.4085e-05],\n",
       "        [-7.3403e-05, -7.5293e-05, -7.5018e-05, -7.1948e-05, -7.2000e-05,\n",
       "         -7.2867e-05, -7.3596e-05, -7.2093e-05, -7.2229e-05, -7.2168e-05],\n",
       "        [ 8.5927e-05, -6.7432e-05,  9.0599e-06,  9.0122e-05,  6.6833e-05,\n",
       "          9.7680e-05, -7.5165e-05,  1.0447e-06, -3.2657e-05,  4.3966e-05],\n",
       "        [-3.4420e-05, -1.1607e-03, -1.0246e-03,  3.5048e-05,  2.9952e-05,\n",
       "          5.0927e-05, -9.8319e-05, -9.9020e-05, -1.4281e-04,  4.3479e-06],\n",
       "        [-8.9947e-05, -8.0780e-05, -1.3222e-05, -4.1810e-05,  7.2323e-05,\n",
       "         -7.1148e-05, -7.8046e-05, -8.6050e-05, -1.7920e-04,  4.5922e-05],\n",
       "        [-8.2232e-05, -6.0698e-05, -9.2784e-05, -7.0402e-05, -7.4066e-05,\n",
       "         -7.2649e-05,  4.4856e-05, -7.8152e-05, -7.9289e-05, -7.7662e-05],\n",
       "        [-4.0060e-05, -4.5709e-04, -4.4435e-04, -6.6123e-06,  7.1588e-05,\n",
       "         -5.6956e-05,  9.1220e-05,  2.8438e-07,  9.5524e-05, -1.2121e-05],\n",
       "        [ 6.1881e-05,  7.2849e-05,  1.4449e-04,  5.7836e-05,  3.6931e-05,\n",
       "          6.6925e-05, -2.8077e-05, -3.2314e-05,  8.6387e-05,  2.2073e-05],\n",
       "        [ 4.8224e-05, -6.5787e-04, -5.3891e-04,  1.2024e-05, -7.3532e-05,\n",
       "         -8.5940e-05, -3.7003e-05,  8.5972e-05,  2.0558e-05,  2.9790e-06],\n",
       "        [ 6.8338e-05,  1.7250e-03,  6.5237e-03,  1.4830e-05,  1.3840e-04,\n",
       "         -6.5161e-05,  8.4546e-05,  2.9411e-05,  7.8158e-05,  3.0406e-05],\n",
       "        [ 8.5856e-06,  6.5566e-03,  1.2200e-02,  1.4437e-04,  2.4280e-05,\n",
       "         -3.5523e-05,  9.9546e-06,  7.5497e-05,  1.9486e-04,  7.2042e-05],\n",
       "        [ 1.0662e-05,  6.8905e-03,  1.2305e-02,  1.4352e-04,  2.3287e-05,\n",
       "         -2.7967e-05,  3.2408e-05,  1.6249e-04,  1.9501e-04,  7.6577e-05],\n",
       "        [ 1.3346e-04,  1.7703e-03,  6.7659e-03,  3.6649e-05,  1.4430e-04,\n",
       "         -2.6972e-06,  1.9260e-04,  1.7579e-04,  1.2053e-04,  1.5535e-04],\n",
       "        [ 1.3172e-04, -1.4682e-04,  1.0643e-03,  2.3325e-05,  1.2808e-04,\n",
       "         -7.4446e-05,  1.2508e-04,  1.5155e-04,  1.2755e-04,  7.8576e-05],\n",
       "        [ 4.1060e-05,  6.3622e-04,  1.2673e-03,  1.6582e-04,  1.9795e-04,\n",
       "         -9.3075e-05,  1.4130e-04,  4.6208e-05,  1.6298e-04,  3.8057e-05],\n",
       "        [ 1.1270e-04,  7.4606e-03,  1.3715e-02,  1.8340e-04,  1.1282e-04,\n",
       "          6.2023e-05,  2.2952e-05,  1.7869e-05,  1.0930e-04,  9.1656e-05],\n",
       "        [ 8.6914e-05,  2.3054e-03,  8.1205e-03,  1.9471e-04,  1.6519e-04,\n",
       "          5.9990e-05,  4.7564e-05,  1.6569e-04,  6.6873e-05,  7.8020e-05],\n",
       "        [ 2.9784e-05,  4.5932e-03,  1.0835e-02,  1.9276e-04,  1.5042e-04,\n",
       "          5.3844e-05,  1.7838e-04,  7.4415e-05,  5.0938e-05,  6.4061e-05],\n",
       "        [ 1.2342e-04, -7.3927e-05,  3.9796e-03,  6.9846e-05,  9.9050e-05,\n",
       "         -9.2727e-05,  8.4802e-05,  5.5663e-05,  1.3578e-04,  5.6422e-05],\n",
       "        [-2.7950e-05,  1.8879e-05,  1.5458e-04, -6.7623e-05, -6.0522e-05,\n",
       "         -7.1909e-05, -1.8702e-05, -4.0083e-05, -4.7478e-05, -5.6710e-05],\n",
       "        [-7.4614e-05, -7.4614e-05, -7.4614e-05, -7.4614e-05, -7.4614e-05,\n",
       "         -7.4614e-05, -7.4614e-05, -7.4614e-05, -7.4614e-05, -7.4614e-05],\n",
       "        [-7.5446e-05, -7.5441e-05, -7.5441e-05, -7.5447e-05, -7.5446e-05,\n",
       "         -7.5388e-05, -7.5444e-05, -7.5445e-05, -7.5446e-05, -7.5446e-05],\n",
       "        [-7.4607e-05, -7.4606e-05, -7.4606e-05, -7.4607e-05, -7.4606e-05,\n",
       "         -7.4607e-05, -7.4607e-05, -7.4606e-05, -7.4607e-05, -7.4607e-05],\n",
       "        [-5.5155e-05,  6.4075e-05, -3.5816e-05, -7.1716e-05, -6.8441e-05,\n",
       "         -7.3714e-05, -5.2036e-05, -5.9613e-05, -6.2641e-05, -6.6493e-05],\n",
       "        [-6.5172e-05, -4.7899e-05,  8.1640e-05, -7.3086e-05, -7.1460e-05,\n",
       "         -7.3939e-05, -6.3744e-05, -6.7188e-05, -6.8736e-05, -7.0525e-05],\n",
       "        [-7.4438e-05, -7.4226e-05, -7.4217e-05, -7.4573e-05, -7.4538e-05,\n",
       "         -7.4594e-05, -7.4405e-05, -7.4481e-05, -7.4511e-05, -7.4540e-05],\n",
       "        [-6.2637e-05, -2.9499e-05, -2.6610e-05, -7.3448e-05, -7.1242e-05,\n",
       "         -7.4542e-05, -6.0598e-05, -6.5471e-05, -6.7392e-05, -6.9953e-05],\n",
       "        [-5.7233e-05, -9.2860e-05,  9.8738e-06, -7.2239e-05, -6.9422e-05,\n",
       "         -7.3942e-05, -5.4628e-05, -6.1513e-05, -6.4223e-05, -6.7819e-05],\n",
       "        [-7.3698e-05, -6.9711e-05, -6.9626e-05, -7.5713e-05, -7.5313e-05,\n",
       "         -7.5923e-05, -7.3370e-05, -7.4236e-05, -7.4616e-05, -7.5108e-05],\n",
       "        [-7.4612e-05, -7.4612e-05, -7.4612e-05, -7.4613e-05, -7.4613e-05,\n",
       "         -7.4614e-05, -7.4612e-05, -7.4613e-05, -7.4612e-05, -7.4613e-05],\n",
       "        [-7.4616e-05, -7.4616e-05, -7.4615e-05, -7.4612e-05, -7.4613e-05,\n",
       "         -7.4613e-05, -7.4611e-05, -7.4612e-05, -7.4613e-05, -7.4616e-05],\n",
       "        [-7.4614e-05, -7.4616e-05, -7.4615e-05, -7.4612e-05, -7.4612e-05,\n",
       "         -7.4613e-05, -7.4612e-05, -7.4614e-05, -7.4613e-05, -7.4613e-05],\n",
       "        [-7.4613e-05, -7.4615e-05, -7.4614e-05, -7.4613e-05, -7.4613e-05,\n",
       "         -7.4613e-05, -7.4614e-05, -7.4613e-05, -7.4613e-05, -7.4613e-05],\n",
       "        [-7.4613e-05, -7.4613e-05, -7.4614e-05, -7.4613e-05, -7.4612e-05,\n",
       "         -7.4613e-05, -7.4613e-05, -7.4613e-05, -7.4613e-05, -7.4613e-05],\n",
       "        [-7.4651e-05, -7.4656e-05, -7.4660e-05, -7.4615e-05, -7.4619e-05,\n",
       "         -7.4612e-05, -7.4642e-05, -7.4643e-05, -7.4629e-05, -7.4647e-05],\n",
       "        [-7.4613e-05, -7.4614e-05, -7.4613e-05, -7.4612e-05, -7.4612e-05,\n",
       "         -7.4613e-05, -7.4611e-05, -7.4612e-05, -7.4611e-05, -7.4611e-05],\n",
       "        [-7.4614e-05, -7.4614e-05, -7.4614e-05, -7.4614e-05, -7.4614e-05,\n",
       "         -7.4614e-05, -7.4614e-05, -7.4614e-05, -7.4614e-05, -7.4614e-05],\n",
       "        [-7.4918e-05, -7.4920e-05, -7.4922e-05, -7.4910e-05, -7.4913e-05,\n",
       "         -7.4911e-05, -7.4914e-05, -7.4915e-05, -7.4913e-05, -7.4912e-05],\n",
       "        [-7.6297e-05, -7.6238e-05, -7.6227e-05, -7.6332e-05, -7.6319e-05,\n",
       "         -7.6335e-05, -7.6277e-05, -7.6306e-05, -7.6304e-05, -7.6320e-05],\n",
       "        [-7.4505e-05, -7.4350e-05, -7.4345e-05, -7.4593e-05, -7.4570e-05,\n",
       "         -7.4602e-05, -7.4483e-05, -7.4530e-05, -7.4543e-05, -7.4568e-05],\n",
       "        [-7.6042e-05, -7.6041e-05, -7.6041e-05, -7.6044e-05, -7.6044e-05,\n",
       "         -7.6046e-05, -7.6043e-05, -7.6043e-05, -7.6044e-05, -7.6044e-05],\n",
       "        [-7.4530e-05, -7.4428e-05, -7.4423e-05, -7.4598e-05, -7.4581e-05,\n",
       "         -7.4606e-05, -7.4518e-05, -7.4550e-05, -7.4561e-05, -7.4575e-05],\n",
       "        [-7.4771e-05, -7.4347e-05, -7.4345e-05, -7.5004e-05, -7.4960e-05,\n",
       "         -7.5003e-05, -7.4730e-05, -7.4850e-05, -7.4886e-05, -7.4943e-05],\n",
       "        [-7.6215e-05, -7.6045e-05, -7.6036e-05, -7.6314e-05, -7.6293e-05,\n",
       "         -7.6329e-05, -7.6194e-05, -7.6305e-05, -7.6259e-05, -7.6286e-05],\n",
       "        [-7.6219e-05, -7.6217e-05, -7.6276e-05, -7.6281e-05, -7.6280e-05,\n",
       "         -7.6222e-05, -7.6219e-05, -7.6280e-05, -7.6281e-05, -7.6280e-05],\n",
       "        [-7.7220e-05, -7.7127e-05, -7.7123e-05, -7.7278e-05, -7.7269e-05,\n",
       "         -7.7288e-05, -7.7201e-05, -7.7235e-05, -7.7246e-05, -7.7263e-05],\n",
       "        [-4.5695e-05,  3.6200e-05, -8.3428e-05, -6.9721e-05, -6.4345e-05,\n",
       "         -7.3384e-05, -4.8596e-06, -5.1189e-05, -5.5648e-05, -6.1638e-05],\n",
       "        [-7.0648e-05, -6.4281e-05, -6.4187e-05, -7.3893e-05, -7.3191e-05,\n",
       "         -7.4299e-05, -7.0239e-05, -7.1725e-05, -7.2225e-05, -7.2805e-05],\n",
       "        [-6.0624e-05,  8.0652e-05, -1.6077e-05, -7.2311e-05, -6.9933e-05,\n",
       "         -7.3588e-05, -5.8696e-05, -6.4186e-05, -6.5783e-05, -6.8594e-05],\n",
       "        [-7.3075e-05, -6.9933e-05, -6.9886e-05, -7.4439e-05, -7.4133e-05,\n",
       "         -7.4491e-05, -7.2895e-05, -7.3474e-05, -7.3685e-05, -7.4039e-05],\n",
       "        [-5.6182e-05, -7.5412e-05, -7.3261e-05, -7.1301e-05, -6.8110e-05,\n",
       "         -7.3336e-05, -5.3493e-05, -6.1417e-05, -6.3615e-05, -6.6579e-05],\n",
       "        [-7.4579e-05, -7.4526e-05, -7.4526e-05, -7.4603e-05, -7.4598e-05,\n",
       "         -7.4605e-05, -7.4575e-05, -7.4585e-05, -7.4588e-05, -7.4596e-05],\n",
       "        [-6.6909e-05, -5.2495e-05, -5.2199e-05, -7.3323e-05, -7.1910e-05,\n",
       "         -7.4046e-05, -6.5949e-05, -6.8935e-05, -6.9913e-05, -7.1194e-05],\n",
       "        [ 7.9175e-05,  4.6910e-04,  4.8905e-04, -8.8039e-05, -7.9523e-05,\n",
       "         -9.4380e-05, -2.1928e-05,  8.3312e-05,  3.1008e-05, -7.3767e-05],\n",
       "        [-5.7373e-05,  1.3426e-04,  3.5509e-05, -7.1572e-05, -6.8779e-05,\n",
       "         -7.3480e-05, -5.5041e-05, -6.1599e-05, -6.4370e-05, -6.7243e-05],\n",
       "        [-7.4106e-05, -7.3221e-05, -7.3198e-05, -7.4621e-05, -7.4493e-05,\n",
       "         -7.4624e-05, -7.4038e-05, -7.4254e-05, -7.4344e-05, -7.4462e-05],\n",
       "        [-5.6026e-05,  3.5976e-05,  8.0417e-05, -7.3020e-05, -7.0208e-05,\n",
       "         -7.4984e-05, -5.2832e-05, -6.2710e-05, -6.5551e-05, -6.8325e-05],\n",
       "        [-6.4513e-05, -1.4780e-05,  7.7650e-05, -7.4086e-05, -7.2340e-05,\n",
       "         -7.5378e-05, -6.2879e-05, -6.7271e-05, -6.9004e-05, -7.1194e-05],\n",
       "        [-5.8717e-05,  8.9441e-05,  8.6149e-05, -7.3203e-05, -7.0320e-05,\n",
       "         -7.6257e-05, -5.5464e-05, -6.3410e-05, -6.6123e-05, -6.8791e-05],\n",
       "        [-2.0038e-05,  3.6167e-04,  2.2208e-04, -6.2376e-05, -4.9794e-05,\n",
       "         -6.9276e-05,  7.2444e-06, -5.3029e-06, -2.2595e-05, -4.1657e-05],\n",
       "        [-7.2908e-05, -6.9833e-05, -6.9796e-05, -7.4376e-05, -7.4047e-05,\n",
       "         -7.4462e-05, -7.2705e-05, -7.3325e-05, -7.3592e-05, -7.3910e-05],\n",
       "        [-5.8445e-05,  9.2325e-05,  6.7652e-05, -7.2137e-05, -6.9511e-05,\n",
       "         -7.3474e-05, -5.6227e-05, -6.3012e-05, -6.5275e-05, -6.7858e-05],\n",
       "        [-7.4528e-05, -7.4391e-05, -7.4386e-05, -7.4599e-05, -7.4586e-05,\n",
       "         -7.4608e-05, -7.4517e-05, -7.4549e-05, -7.4558e-05, -7.4577e-05],\n",
       "        [-4.3646e-05, -2.3319e-05, -5.2036e-05, -7.0960e-05, -6.5739e-05,\n",
       "         -7.3979e-05, -3.9781e-05, -5.2578e-05, -5.6862e-05, -6.2225e-05],\n",
       "        [-7.0042e-05, -6.4763e-05, -6.7370e-05, -7.3989e-05, -7.3112e-05,\n",
       "         -7.4245e-05, -6.9522e-05, -7.1187e-05, -7.1856e-05, -7.2763e-05],\n",
       "        [-7.1958e-05, -6.5206e-05, -6.5124e-05, -7.4755e-05, -7.4147e-05,\n",
       "         -7.4928e-05, -7.1577e-05, -7.2787e-05, -7.3265e-05, -7.3887e-05],\n",
       "        [-7.4624e-05, -7.4519e-05, -7.4516e-05, -7.4662e-05, -7.4653e-05,\n",
       "         -7.4667e-05, -7.4612e-05, -7.4635e-05, -7.4640e-05, -7.4656e-05],\n",
       "        [-7.4462e-05, -7.2405e-05, -7.2379e-05, -7.5494e-05, -7.5250e-05,\n",
       "         -7.5534e-05, -7.4322e-05, -7.4753e-05, -7.4913e-05, -7.5176e-05],\n",
       "        [-1.4394e-05,  1.2285e-04,  1.4010e-04, -7.0834e-05, -6.2286e-05,\n",
       "         -7.5936e-05,  9.8922e-05,  6.8665e-05, -4.7722e-05, -5.7414e-05],\n",
       "        [-7.5192e-05, -7.3071e-05, -7.3018e-05, -7.6215e-05, -7.6000e-05,\n",
       "         -7.6315e-05, -7.4995e-05, -7.5461e-05, -7.5630e-05, -7.5902e-05],\n",
       "        [-5.0471e-05, -2.8627e-05, -8.5789e-05, -7.3401e-05, -6.8899e-05,\n",
       "         -7.5948e-05, -4.7529e-05, -5.8466e-05, -6.1989e-05, -6.6229e-05],\n",
       "        [ 8.0708e-05,  6.4117e-05, -8.4574e-05, -7.1775e-05, -6.7497e-05,\n",
       "         -7.5040e-05, -5.6825e-05, -5.5932e-05, -5.9818e-05, -6.5274e-05],\n",
       "        [-6.8928e-05,  7.2756e-05,  6.9010e-05, -7.5755e-05, -7.4382e-05,\n",
       "         -7.7008e-05, -6.7748e-05, -7.0990e-05, -7.2340e-05, -7.3588e-05],\n",
       "        [ 1.5097e-05, -2.3402e-05, -3.1601e-05, -7.7210e-05, -6.3031e-05,\n",
       "         -8.4237e-05, -6.5391e-05, -7.6835e-05, -1.1515e-05, -5.2392e-05]],\n",
       "       device='cuda:0', requires_grad=True)"
      ]
     },
     "execution_count": 56,
     "metadata": {},
     "output_type": "execute_result"
    }
   ],
   "source": [
    "model.XI"
   ]
  },
  {
   "cell_type": "code",
   "execution_count": null,
   "metadata": {},
   "outputs": [],
   "source": [
    "path = '../model/'\n",
    "t = 1000"
   ]
  },
  {
   "cell_type": "code",
   "execution_count": null,
   "metadata": {},
   "outputs": [],
   "source": [
    "print(f\"Caricato il checkpoint all'epoca:{t} \")\n",
    "model = Autoencoder(2601,2).to(device)\n",
    "optimizer = model.configure_optimizers()\n",
    "\n",
    "f1 = path + 'model' + '_' + str(t) + 'epochs' + '.pt'\n",
    "\n",
    "checkpoint = torch.load(f1)\n",
    "model.load_state_dict(checkpoint['model_state_dict'])\n",
    "optimizer.load_state_dict(checkpoint['optimizer_state_dict'])\n",
    "epoch = checkpoint['epoch']\n",
    "loss = checkpoint['loss']"
   ]
  },
  {
   "cell_type": "code",
   "execution_count": 58,
   "metadata": {},
   "outputs": [],
   "source": [
    "print_model(t)"
   ]
  },
  {
   "cell_type": "code",
   "execution_count": null,
   "metadata": {},
   "outputs": [],
   "source": [
    "data = pd.DataFrame.from_dict(loss_list)\n",
    "data.to_csv('./data'+'_'+str(t)+'epochs'+'.csv')\n",
    "for key in loss_list.keys():\n",
    "    plt.plot(loss_list[key],label = key)\n",
    "plt.plot(loss_val_list,label = 'validation')    \n",
    "plt.legend(loc = 'best')\n",
    "plt.title('Loss con batch size di '+str(batch_size))"
   ]
  },
  {
   "cell_type": "code",
   "execution_count": null,
   "metadata": {},
   "outputs": [],
   "source": [
    "import csv\n",
    "\n",
    "with open('./data'+'_'+str(t)+'epochs'+'.csv') as file:\n",
    "    reader = csv.DictReader(file)\n",
    "    for row in reader:\n",
    "        print(row)"
   ]
  }
 ],
 "metadata": {
  "kernelspec": {
   "display_name": "Python 3",
   "language": "python",
   "name": "python3"
  },
  "language_info": {
   "codemirror_mode": {
    "name": "ipython",
    "version": 3
   },
   "file_extension": ".py",
   "mimetype": "text/x-python",
   "name": "python",
   "nbconvert_exporter": "python",
   "pygments_lexer": "ipython3",
   "version": "3.7.3"
  }
 },
 "nbformat": 4,
 "nbformat_minor": 4
}
