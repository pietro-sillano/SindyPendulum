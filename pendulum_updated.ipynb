{
  "cells": [
    {
      "cell_type": "markdown",
      "metadata": {
        "id": "evH6sjsxsKWE"
      },
      "source": [
        "# TO DO LIST\n",
        "\n",
        "11. capire come fare una prediction con quanto ottenuto\n",
        "14. devo usare il test e validation set? si come? vedere l autoencoder come si comporta con dati non visti ?\n",
        "15. aggiungere un early stopping\n",
        "17. sistemare la sindy library con qualcosa di piu sensato\n",
        "18. capire se i parametri xi effettivamente debbano essere agggiornati dal gradiente o no\n",
        "\n"
      ]
    },
    {
      "cell_type": "code",
      "execution_count": null,
      "metadata": {
        "id": "trlxwPDloKs5"
      },
      "outputs": [],
      "source": [
        "import matplotlib.pyplot as plt\n",
        "from google.colab import files\n",
        "import torch\n",
        "import torch.nn as nn\n",
        "from torch.utils.data import Dataset, DataLoader, TensorDataset\n",
        "import numpy as np\n",
        "import sys\n",
        "syspath = 'SindyPendulum/'\n",
        "if syspath not in sys.path:\n",
        "    sys.path.append(syspath)\n",
        "import time\n"
      ]
    },
    {
      "cell_type": "code",
      "execution_count": null,
      "metadata": {
        "colab": {
          "base_uri": "https://localhost:8080/"
        },
        "id": "qNbEXw0Uo3zR",
        "outputId": "7eabf512-f2cf-4429-bc0e-9af2374ed4cd"
      },
      "outputs": [
        {
          "name": "stdout",
          "output_type": "stream",
          "text": [
            "Using cuda device\n"
          ]
        }
      ],
      "source": [
        "# Get cpu or gpu device for training.\n",
        "device = \"cuda\" if torch.cuda.is_available() else \"cpu\"\n",
        "print(\"Using {} device\".format(device))"
      ]
    },
    {
      "cell_type": "markdown",
      "metadata": {
        "id": "8VneYLUfl5bz"
      },
      "source": [
        "# Data Generation"
      ]
    },
    {
      "cell_type": "code",
      "execution_count": null,
      "metadata": {
        "colab": {
          "base_uri": "https://localhost:8080/"
        },
        "id": "ojotcMcmDoRF",
        "outputId": "f8784ec7-cc45-4978-9da9-c63afc4a8be0"
      },
      "outputs": [
        {
          "name": "stdout",
          "output_type": "stream",
          "text": [
            "fatal: destination path 'SindyPendulum' already exists and is not an empty directory.\n"
          ]
        }
      ],
      "source": [
        "!git clone https://github.com/pietro-sillano/SindyPendulum.git"
      ]
    },
    {
      "cell_type": "code",
      "execution_count": null,
      "metadata": {
        "colab": {
          "base_uri": "https://localhost:8080/"
        },
        "id": "jiqk7akK2aoa",
        "outputId": "fc81c54e-7390-4c2c-92f9-8d69fe224a7f"
      },
      "outputs": [
        {
          "name": "stdout",
          "output_type": "stream",
          "text": [
            "Already up to date.\n"
          ]
        }
      ],
      "source": [
        "!cd SindyPendulum && git pull"
      ]
    },
    {
      "cell_type": "markdown",
      "metadata": {
        "id": "afRdAZnLIC-O"
      },
      "source": [
        ""
      ]
    },
    {
      "cell_type": "code",
      "execution_count": null,
      "metadata": {
        "id": "wwWPtC6xKbKb"
      },
      "outputs": [],
      "source": [
        "from sindy_library import SINDyLibrary"
      ]
    },
    {
      "cell_type": "code",
      "execution_count": null,
      "metadata": {
        "id": "q-eylOGYs7oC"
      },
      "outputs": [],
      "source": [
        "from sindy_library_numpy import SINDyNew"
      ]
    },
    {
      "cell_type": "code",
      "execution_count": null,
      "metadata": {
        "id": "JwRkfRiGKbKc"
      },
      "outputs": [],
      "source": [
        "#!python SindyPendulum/lorentz.py  -i 1000"
      ]
    },
    {
      "cell_type": "code",
      "execution_count": null,
      "metadata": {
        "colab": {
          "base_uri": "https://localhost:8080/"
        },
        "id": "d1DKMT2rsJPt",
        "outputId": "572f26bd-2cd1-47e4-8ebf-c37d6add998a"
      },
      "outputs": [
        {
          "name": "stdout",
          "output_type": "stream",
          "text": [
            "tcmalloc: large alloc 4910694400 bytes == 0x55a099142000 @  0x7fea6f3811e7 0x7fea6cf0146e 0x7fea6cf51c7b 0x7fea6cf5235f 0x7fea6cff4103 0x55a096987544 0x55a096987240 0x55a0969fb627 0x55a096988afa 0x55a0969f6915 0x55a0969f59ee 0x55a0969f56f3 0x55a096abf4c2 0x55a096abf83d 0x55a096abf6e6 0x55a096a97163 0x55a096a96e0c 0x7fea6e16bbf7 0x55a096a96cea\n",
            "tcmalloc: large alloc 4910694400 bytes == 0x55a1bdc76000 @  0x7fea6f3811e7 0x7fea6cf0146e 0x7fea6cf51c7b 0x7fea6cf5235f 0x7fea6cff4103 0x55a096987544 0x55a096987240 0x55a0969fb627 0x55a096988afa 0x55a0969f6915 0x55a0969f59ee 0x55a0969f56f3 0x55a096abf4c2 0x55a096abf83d 0x55a096abf6e6 0x55a096a97163 0x55a096a96e0c 0x7fea6e16bbf7 0x55a096a96cea\n",
            "0  su  4720\n",
            "100  su  4720\n",
            "200  su  4720\n",
            "300  su  4720\n",
            "400  su  4720\n",
            "500  su  4720\n",
            "600  su  4720\n",
            "700  su  4720\n",
            "800  su  4720\n",
            "900  su  4720\n",
            "1000  su  4720\n",
            "1100  su  4720\n",
            "1200  su  4720\n",
            "1300  su  4720\n",
            "1400  su  4720\n",
            "1500  su  4720\n",
            "1600  su  4720\n",
            "1700  su  4720\n",
            "1800  su  4720\n",
            "1900  su  4720\n",
            "2000  su  4720\n",
            "2100  su  4720\n",
            "2200  su  4720\n",
            "2300  su  4720\n",
            "2400  su  4720\n",
            "2500  su  4720\n",
            "2600  su  4720\n",
            "2700  su  4720\n",
            "2800  su  4720\n",
            "2900  su  4720\n",
            "3000  su  4720\n",
            "3100  su  4720\n",
            "3200  su  4720\n",
            "3300  su  4720\n",
            "3400  su  4720\n",
            "3500  su  4720\n",
            "3600  su  4720\n",
            "3700  su  4720\n",
            "3800  su  4720\n",
            "3900  su  4720\n",
            "4000  su  4720\n",
            "4100  su  4720\n",
            "4200  su  4720\n",
            "4300  su  4720\n",
            "4400  su  4720\n",
            "4500  su  4720\n",
            "4600  su  4720\n",
            "4700  su  4720\n",
            "(472000, 2601)\n",
            "condizioni iniziali valide:  4720\n"
          ]
        }
      ],
      "source": [
        "!python SindyPendulum/data_pendulum_image.py  -i 90"
      ]
    },
    {
      "cell_type": "code",
      "execution_count": null,
      "metadata": {
        "colab": {
          "base_uri": "https://localhost:8080/"
        },
        "id": "tF0zoK0y3wVI",
        "outputId": "f9293d9e-2a01-4268-b9cf-ae96c0e90d4c"
      },
      "outputs": [
        {
          "name": "stdout",
          "output_type": "stream",
          "text": [
            "Mounted at /content/gdrive\n"
          ]
        }
      ],
      "source": [
        "from google.colab import drive\n",
        "drive.mount('/content/gdrive')"
      ]
    },
    {
      "cell_type": "code",
      "execution_count": null,
      "metadata": {
        "colab": {
          "base_uri": "https://localhost:8080/"
        },
        "id": "kPEvHiG431LS",
        "outputId": "4fb625d5-f440-4fd6-9e2d-e19663b6ebe0"
      },
      "outputs": [
        {
          "name": "stdout",
          "output_type": "stream",
          "text": [
            "ls: cannot access '/content/gdrive/My': No such file or directory\n",
            "ls: cannot access 'Drive/': No such file or directory\n"
          ]
        }
      ],
      "source": [
        "!ls /content/gdrive/My Drive/"
      ]
    },
    {
      "cell_type": "code",
      "execution_count": null,
      "metadata": {
        "id": "KEpv96Sc375A"
      },
      "outputs": [],
      "source": [
        "!mv X.npy /content/gdrive/MyDrive/"
      ]
    },
    {
      "cell_type": "code",
      "execution_count": null,
      "metadata": {
        "id": "kQn8CKn84jte"
      },
      "outputs": [],
      "source": [
        "!mv Xdot.npy /content/gdrive/MyDrive/"
      ]
    },
    {
      "cell_type": "code",
      "execution_count": null,
      "metadata": {
        "colab": {
          "background_save": true
        },
        "id": "GUIqs9cQNktG",
        "outputId": "d695a2f3-f5b9-4527-ec29-7fbd48e76827"
      },
      "outputs": [
        {
          "ename": "KeyboardInterrupt",
          "evalue": "ignored",
          "output_type": "error",
          "traceback": [
            "\u001b[0;31m---------------------------------------------------------------------------\u001b[0m",
            "\u001b[0;31mKeyboardInterrupt\u001b[0m                         Traceback (most recent call last)",
            "\u001b[0;32m<ipython-input-16-e0e900c3d798>\u001b[0m in \u001b[0;36m<module>\u001b[0;34m()\u001b[0m\n\u001b[1;32m      1\u001b[0m \u001b[0mX\u001b[0m \u001b[0;34m=\u001b[0m \u001b[0mnp\u001b[0m\u001b[0;34m.\u001b[0m\u001b[0mload\u001b[0m\u001b[0;34m(\u001b[0m\u001b[0;34m'/content/gdrive/MyDrive/X.npy'\u001b[0m\u001b[0;34m)\u001b[0m\u001b[0;34m\u001b[0m\u001b[0;34m\u001b[0m\u001b[0m\n\u001b[0;32m----> 2\u001b[0;31m \u001b[0mXdot\u001b[0m \u001b[0;34m=\u001b[0m \u001b[0mnp\u001b[0m\u001b[0;34m.\u001b[0m\u001b[0mload\u001b[0m\u001b[0;34m(\u001b[0m\u001b[0;34m'/content/gdrive/MyDrive/Xdot.npy'\u001b[0m\u001b[0;34m)\u001b[0m\u001b[0;34m\u001b[0m\u001b[0;34m\u001b[0m\u001b[0m\n\u001b[0m",
            "\u001b[0;32m/usr/local/lib/python3.7/dist-packages/numpy/lib/npyio.py\u001b[0m in \u001b[0;36mload\u001b[0;34m(file, mmap_mode, allow_pickle, fix_imports, encoding)\u001b[0m\n\u001b[1;32m    438\u001b[0m             \u001b[0;32melse\u001b[0m\u001b[0;34m:\u001b[0m\u001b[0;34m\u001b[0m\u001b[0;34m\u001b[0m\u001b[0m\n\u001b[1;32m    439\u001b[0m                 return format.read_array(fid, allow_pickle=allow_pickle,\n\u001b[0;32m--> 440\u001b[0;31m                                          pickle_kwargs=pickle_kwargs)\n\u001b[0m\u001b[1;32m    441\u001b[0m         \u001b[0;32melse\u001b[0m\u001b[0;34m:\u001b[0m\u001b[0;34m\u001b[0m\u001b[0;34m\u001b[0m\u001b[0m\n\u001b[1;32m    442\u001b[0m             \u001b[0;31m# Try a pickle\u001b[0m\u001b[0;34m\u001b[0m\u001b[0;34m\u001b[0m\u001b[0;34m\u001b[0m\u001b[0m\n",
            "\u001b[0;32m/usr/local/lib/python3.7/dist-packages/numpy/lib/format.py\u001b[0m in \u001b[0;36mread_array\u001b[0;34m(fp, allow_pickle, pickle_kwargs)\u001b[0m\n\u001b[1;32m    739\u001b[0m         \u001b[0;32mif\u001b[0m \u001b[0misfileobj\u001b[0m\u001b[0;34m(\u001b[0m\u001b[0mfp\u001b[0m\u001b[0;34m)\u001b[0m\u001b[0;34m:\u001b[0m\u001b[0;34m\u001b[0m\u001b[0;34m\u001b[0m\u001b[0m\n\u001b[1;32m    740\u001b[0m             \u001b[0;31m# We can use the fast fromfile() function.\u001b[0m\u001b[0;34m\u001b[0m\u001b[0;34m\u001b[0m\u001b[0;34m\u001b[0m\u001b[0m\n\u001b[0;32m--> 741\u001b[0;31m             \u001b[0marray\u001b[0m \u001b[0;34m=\u001b[0m \u001b[0mnumpy\u001b[0m\u001b[0;34m.\u001b[0m\u001b[0mfromfile\u001b[0m\u001b[0;34m(\u001b[0m\u001b[0mfp\u001b[0m\u001b[0;34m,\u001b[0m \u001b[0mdtype\u001b[0m\u001b[0;34m=\u001b[0m\u001b[0mdtype\u001b[0m\u001b[0;34m,\u001b[0m \u001b[0mcount\u001b[0m\u001b[0;34m=\u001b[0m\u001b[0mcount\u001b[0m\u001b[0;34m)\u001b[0m\u001b[0;34m\u001b[0m\u001b[0;34m\u001b[0m\u001b[0m\n\u001b[0m\u001b[1;32m    742\u001b[0m         \u001b[0;32melse\u001b[0m\u001b[0;34m:\u001b[0m\u001b[0;34m\u001b[0m\u001b[0;34m\u001b[0m\u001b[0m\n\u001b[1;32m    743\u001b[0m             \u001b[0;31m# This is not a real file. We have to read it the\u001b[0m\u001b[0;34m\u001b[0m\u001b[0;34m\u001b[0m\u001b[0;34m\u001b[0m\u001b[0m\n",
            "\u001b[0;31mKeyboardInterrupt\u001b[0m: "
          ]
        }
      ],
      "source": [
        "X = np.load('/content/gdrive/MyDrive/X.npy')\n",
        "Xdot = np.load('/content/gdrive/MyDrive/Xdot.npy')"
      ]
    },
    {
      "cell_type": "code",
      "execution_count": null,
      "metadata": {
        "colab": {
          "base_uri": "https://localhost:8080/"
        },
        "id": "57E3E3Cqb2Mf",
        "outputId": "92173807-0d3a-4e60-fb74-57d51fc37a83"
      },
      "outputs": [
        {
          "data": {
            "text/plain": [
              "dtype('float32')"
            ]
          },
          "execution_count": 10,
          "metadata": {},
          "output_type": "execute_result"
        }
      ],
      "source": [
        "X.dtype"
      ]
    },
    {
      "cell_type": "code",
      "execution_count": null,
      "metadata": {
        "id": "UW2N4TZTbYsO"
      },
      "outputs": [],
      "source": [
        "X = torch.from_numpy(X).float().to(device)\n",
        "Xdot = torch.from_numpy(Xdot).float().to(device)\n",
        "X.shape, Xdot.shape, X.dtype"
      ]
    },
    {
      "cell_type": "code",
      "execution_count": null,
      "metadata": {
        "id": "B2vYJ447_sxQ"
      },
      "outputs": [],
      "source": [
        "batch_size = 1024\n",
        "my_dataset = TensorDataset(X,Xdot)\n",
        "dataloader = DataLoader(my_dataset,batch_size=batch_size, shuffle=True)"
      ]
    },
    {
      "cell_type": "markdown",
      "metadata": {
        "id": "9lRG3Ea4CWWl"
      },
      "source": [
        "# Network\n",
        "\n",
        "\n"
      ]
    },
    {
      "cell_type": "code",
      "execution_count": null,
      "metadata": {
        "id": "5ZSdKOTO8dFN"
      },
      "outputs": [],
      "source": [
        "class Encoder(nn.Module):\n",
        "    def __init__(self, input_size,latent_dim):\n",
        "        super(Encoder, self).__init__()\n",
        "        self.fc1 = nn.Linear(input_size,512)\n",
        "        self.fc2 = nn.Linear(512,128)\n",
        "        self.fc3 = nn.Linear(128,64)\n",
        "        self.fc4 = nn.Linear(64,latent_dim)\n",
        "        self.initialize_weights()\n",
        "\n",
        "    def initialize_weights(self):\n",
        "        for m in self.modules():\n",
        "            print(m)\n",
        "            if isinstance(m, nn.Linear):\n",
        "                nn.init.xavier_normal_(m.weight)\n",
        "                if m.bias is not None:\n",
        "                    nn.init.constant_(m.bias, 0)\n",
        "\n",
        "    def forward(self, x):\n",
        "        #x = torch.sigmoid(self.fc1(x))\n",
        "        \n",
        "        #x = torch.sigmoid(self.fc2(x))\n",
        "        #x = torch.sigmoid(self.fc3(x))   \n",
        "        #x = torch.sigmoid(self.fc4(x))\n",
        "        x = torch.relu(self.fc1(x))\n",
        "        x = torch.relu(self.fc2(x))\n",
        "        x = torch.relu(self.fc3(x))   \n",
        "        x = torch.relu(self.fc4(x))\n",
        "        return x \n",
        "\n",
        "class Decoder(nn.Module):\n",
        "    def __init__(self, input_size,latent_dim):\n",
        "        super(Decoder, self).__init__()\n",
        "        self.fc1 = nn.Linear(latent_dim,64)\n",
        "        self.fc2 = nn.Linear(64,128)\n",
        "        self.fc3 = nn.Linear(128,512)\n",
        "        self.fc4 = nn.Linear(512,input_size)\n",
        "        self.initialize_weights()\n",
        "\n",
        "    def forward(self, x):\n",
        "        #x = torch.sigmoid(self.fc1(x))\n",
        "        #x = torch.sigmoid(self.fc2(x))\n",
        "        #x = torch.sigmoid(self.fc3(x))   \n",
        "        #x = torch.sigmoid(self.fc4(x))\n",
        "        x = torch.relu(self.fc1(x))\n",
        "        x = torch.relu(self.fc2(x))\n",
        "        x = torch.relu(self.fc3(x))   \n",
        "        x = torch.relu(self.fc4(x))\n",
        "        return x\n",
        "\n",
        "    def initialize_weights(self):\n",
        "        for m in self.modules():\n",
        "            if isinstance(m, nn.Linear):\n",
        "                nn.init.xavier_normal_(m.weight)\n",
        "                if m.bias is not None:\n",
        "                    nn.init.constant_(m.bias, 0)\n",
        "\n",
        "class Autoencoder(nn.Module):\n",
        "    def __init__(self, input_size, latent_dim):\n",
        "        super(Autoencoder, self).__init__()\n",
        "        self.encoder = Encoder(input_size,latent_dim)\n",
        "        self.decoder = Decoder(input_size,latent_dim)\n",
        "        self.SINDyLibrary = SINDyLibrary(\n",
        "            device=device,\n",
        "            latent_dim=latent_dim,\n",
        "            include_biases=False,\n",
        "            include_states=True,\n",
        "            include_sin=True,\n",
        "            include_cos=True,\n",
        "            include_multiply_pairs=True,\n",
        "            poly_order=2,\n",
        "            include_sqrt=True,\n",
        "            include_inverse=False,\n",
        "            include_sign_sqrt_of_diff=False)\n",
        "        \n",
        "#        self.XI = nn.Parameter(torch.full((self.SINDyLibrary.number_candidate_functions,latent_dim), 0.1,dtype = torch.float32,requires_grad=True,device = device))\n",
        "        self.XI = nn.Parameter(torch.full((self.SINDyLibrary.number_candidate_functions,latent_dim), 0.1,dtype = torch.float32,requires_grad=True,device = device))\n",
        "\n",
        "        self.XI_coefficient_mask = torch.ones((self.SINDyLibrary.number_candidate_functions,latent_dim),dtype = torch.float32, device=device)\n",
        "\n",
        "    def configure_optimizers(self):\n",
        "        learning_rate = 1e-4\n",
        "#        return torch.optim.SGD(self.parameters(), lr=learning_rate)\n",
        "        return torch.optim.Adam(self.parameters(), lr=learning_rate)\n",
        "\n",
        "\n",
        "    def t_derivative(self,input, xdot, weights, biases, activation='sigmoid'):\n",
        "        \"\"\"\n",
        "        Compute the first order time derivatives by propagating through the network.\n",
        "        da[l]dt = xdot * da[l]dx = xdot * product(g'(w[l]a[l-1] + b[l])* w[l])\n",
        "        Arguments:\n",
        "            input - 2D tensorflow array, input to the network. Dimensions are number of time points\n",
        "            by number of state variables.\n",
        "            xdot - First order time derivatives of the input to the network. quello che conosciamo\n",
        "            weights - List of tensorflow arrays containing the network weights\n",
        "            biases - List of tensorflow arrays containing the network biases\n",
        "            activation - String specifying which activation function to use. Options are\n",
        "            'elu' (exponential linear unit), 'relu' (rectified linear unit), 'sigmoid',\n",
        "            or linear.\n",
        "\n",
        "        Returns:\n",
        "            dadt - Tensorflow array, first order time derivatives of the network output.\n",
        "        \"\"\"\n",
        "        a   = input\n",
        "        dadt = xdot #per le condizioni iniziali\n",
        "\n",
        "        if activation == 'sigmoid':\n",
        "            for i in range(len(weights) - 1):\n",
        "                z = torch.matmul(a, weights[i].T) + biases[i]\n",
        "                a = torch.sigmoid(z)\n",
        "                gprime = a * (1-a)\n",
        "                dadt = gprime * torch.matmul(dadt, weights[i].T)\n",
        "            dadt = torch.matmul(dadt, weights[-1].T) #fuori dal ciclo bisogna ancora moltiplicare per i pesi dell ultimo livello\n",
        "            \n",
        "        elif activation == 'relu':\n",
        "            for i in range(len(weights) - 1):\n",
        "                #print('modulo n ',i)\n",
        "                #print('weights',weights[i].shape)\n",
        "                z = torch.matmul(a, weights[i].T) + biases[i]\n",
        "                #print('z:',z.shape)\n",
        "                a = torch.relu(z)\n",
        "                #print('a:',a.shape)\n",
        "                dadt = (z > 0).float() * torch.matmul(dadt, weights[i].T)    \n",
        "            dadt = torch.matmul(dadt, weights[-1].T) #fuori dal ciclo bisogna ancora moltiplicare per i pesi dell ultimo livello\n",
        "            #print(dadt)\n",
        "        return dadt #nel caso che ci serve dadt sará l output dell encoder ossia le latent variables!\n",
        "\n",
        "    \n",
        "    \n",
        "    def compute_quantities(self,x,xdot):\n",
        "    \n",
        "        z = self.encoder(x)\n",
        "        xtilde = self.decoder(z)\n",
        "\n",
        "        theta = self.SINDyLibrary.transform(z) \n",
        "        zdot_hat = torch.matmul(theta, self.XI_coefficient_mask * self.XI)\n",
        "        \n",
        "        encoder_parameters = list(self.encoder.parameters())\n",
        "        encoder_weight_list = [w for w in encoder_parameters if len(w.shape) == 2]\n",
        "        encoder_biases_list = [b for b in encoder_parameters if len(b.shape) == 1]\n",
        "        zdot = self.t_derivative(x, xdot, encoder_weight_list, encoder_biases_list, activation='relu')                                               \n",
        "\n",
        "        #print(\"propagazione sul decoder\")\n",
        "        decoder_parameters = list(self.decoder.parameters())\n",
        "        decoder_weight_list = [w for w in decoder_parameters if len(w.shape) == 2]\n",
        "        decoder_biases_list = [b for b in decoder_parameters if len(b.shape) == 1]\n",
        "        xtildedot = self.t_derivative(z, zdot_hat, decoder_weight_list, decoder_biases_list, activation='relu')    \n",
        "        \n",
        "        if(DEBUG == True):\n",
        "            print('z',z)\n",
        "            print(' xtilde',xtilde)\n",
        "            print('theta',theta)\n",
        "            print('max theta',theta.max())\n",
        "            print('zdot',zdot)\n",
        "            print('zdothat',zdot_hat)\n",
        "            print('xtildedot',xtildedot)\n",
        "\n",
        "\n",
        "        return xtilde, xtildedot, z, zdot, zdot_hat\n",
        "\n",
        "    def loss_function(self, x, xdot, xtilde, xtildedot, zdot, zdot_hat,XI):\n",
        "        mse = nn.MSELoss()\n",
        "        alpha1 = 5e-4\n",
        "        alpha2 = 5e-5\n",
        "        alpha3 = 1e-5\n",
        "        loss = {}\n",
        "        loss['recon_loss'] = mse(x, xtilde) #errore di ricostruzione \n",
        "        loss ['sindy_loss_x'] = mse(xdot, xtildedot) \n",
        "        loss ['sindy_loss_z'] = mse(zdot, zdot_hat) \n",
        "        loss['sindy_regular_loss'] = torch.sum(torch.abs(XI)) #norma L1 degli XI\n",
        "        loss['tot'] = loss['recon_loss'] + alpha1*loss['sindy_loss_x'] + alpha2*loss['sindy_loss_z'] + alpha3*loss['sindy_regular_loss']\n",
        "        tot = loss['tot']\n",
        "        return tot, loss\n",
        "    \n",
        "    def forward(self, x, xdot):\n",
        "        return self.compute_quantities(x, xdot)"
      ]
    },
    {
      "cell_type": "code",
      "execution_count": null,
      "metadata": {
        "id": "c4mBzZuzxPYP"
      },
      "outputs": [],
      "source": [
        "input_size = X.shape[1]\n",
        "latent_dim = 2"
      ]
    },
    {
      "cell_type": "code",
      "execution_count": null,
      "metadata": {
        "id": "sOuh7zJeoRmH"
      },
      "outputs": [],
      "source": [
        "model = Autoencoder(input_size,latent_dim).to(device)"
      ]
    },
    {
      "cell_type": "code",
      "execution_count": null,
      "metadata": {
        "id": "8r_OGkXz2Mgl"
      },
      "outputs": [],
      "source": [
        "model.SINDyLibrary.number_candidate_functions"
      ]
    },
    {
      "cell_type": "markdown",
      "metadata": {
        "id": "6ZqwZy2XmMum"
      },
      "source": [
        "# Parameters and Training\n"
      ]
    },
    {
      "cell_type": "code",
      "execution_count": null,
      "metadata": {
        "id": "zrBLCBxXTPaa"
      },
      "outputs": [],
      "source": [
        "def sequential_threshold(t):\n",
        "    if t % 100 == 0:\n",
        "        model.XI_coefficient_mask = torch.abs(model.XI) > 0.01\n",
        "        print(model.XI_coefficient_mask)\n",
        "\n",
        "        f1 = './model'+str(batch_size)+'_'+str(t)+'epochs'+'.pt'\n",
        "        torch.save(model,f1)\n",
        "        print('salvato il',f1)\n",
        "        #files.download(f1)"
      ]
    },
    {
      "cell_type": "code",
      "execution_count": null,
      "metadata": {
        "id": "1vtgRajRvOZK"
      },
      "outputs": [],
      "source": [
        "epochs = 1000\n",
        "DEBUG = False\n",
        "\n",
        "loss_list = {}\n",
        "loss_list['recon_loss'] = []\n",
        "loss_list['sindy_loss_x'] = []\n",
        "loss_list['sindy_loss_z'] = []\n",
        "loss_list['sindy_regular_loss'] = []\n",
        "loss_list['tot'] = []\n",
        "\n",
        "for t in range(epochs):\n",
        "    start = time.time()\n",
        "    model.train()\n",
        "    \n",
        "    #queste serve per le loss di ogni batch\n",
        "    loss_epoch = {}\n",
        "    loss_epoch['recon_loss'] = []\n",
        "    loss_epoch['sindy_loss_x'] = []\n",
        "    loss_epoch['sindy_loss_z'] = []\n",
        "    loss_epoch['sindy_regular_loss'] = []\n",
        "    loss_epoch['tot'] = []\n",
        "    \n",
        "    \n",
        "    for batch, (X,Xdot) in enumerate (dataloader):\n",
        "        X.to(device) #per passarlo alla gpu\n",
        "        Xdot.to(device)\n",
        "        #forward pass \n",
        "        xtilde, xtildedot, z, zdot, zdot_hat = model(X,Xdot)\n",
        "\n",
        "        # Backpropagation\n",
        "        optimizer = model.configure_optimizers()\n",
        "        loss, loss_dict = model.loss_function(X, Xdot, xtilde, xtildedot, zdot, zdot_hat,model.XI)\n",
        "        loss.backward()\n",
        "        del  xtilde, xtildedot, z, zdot, zdot_hat,loss\n",
        "        optimizer.step()\n",
        "        optimizer.zero_grad()\n",
        "\n",
        "        current = batch * len(X)\n",
        "\n",
        "        for key in loss_epoch.keys():\n",
        "            loss_epoch[key].append(loss_dict[key].item())\n",
        "        del loss_dict\n",
        "\n",
        "    for key in loss_epoch.keys():\n",
        "        loss_list[key].append(sum(loss_epoch[key])/len(loss_epoch[key]))\n",
        "    del loss_epoch\n",
        "    \n",
        "    end = time.time()\n",
        "    if t % 5 == 0:\n",
        "        print()\n",
        "        print(f\"Epoch {t}\\n-------------------------------\")\n",
        "        for key in loss_list.keys():\n",
        "            temp = loss_list[key]\n",
        "            print(f'{key} of epoch {t}: {temp[-1]}')\n",
        "        print('time: ',end-start)\n",
        "\n",
        "\n",
        "    sequential_threshold(t)\n",
        "\n",
        "print(\"Done!\")\n",
        "torch.save(model,'./model.pt')\n"
      ]
    },
    {
      "cell_type": "code",
      "execution_count": null,
      "metadata": {
        "id": "S9h_nzTmWS6t"
      },
      "outputs": [],
      "source": [
        "torch.save(model,'./model'+str(batch_size)+'_'+str(t)+'epochs'+'.pt')"
      ]
    },
    {
      "cell_type": "markdown",
      "metadata": {
        "id": "yty_2F0kKbKn"
      },
      "source": [
        "### loss 8192 100 epochs\n",
        "recon_loss of epoch 99: 85.203\n",
        "sindy_loss_x of epoch 99: 3025.53\n",
        "sindy_loss_z of epoch 99: 46474.64\n",
        "sindy_regular_loss of epoch 99: 14.79\n",
        "tot of epoch 99: 89.040\n",
        "\n",
        "### loss con 1024 bs 100 epochs\n",
        "recon_loss of epoch 99: 7.975912475585938\n",
        "sindy_loss_x of epoch 99: 1166.713880266462\n",
        "sindy_loss_z of epoch 99: 16406.63359375\n",
        "sindy_regular_loss of epoch 99: 12.32967277935573\n",
        "tot of epoch 99: 9.379724172183446\n",
        "\n",
        "### loss con 256 batchsize 100 epochs\n",
        "recon_loss of epoch 99: 22.13456918171474\n",
        "sindy_loss_x of epoch 99: 738.3788791111538\n",
        "sindy_loss_z of epoch 99: 31111.867034040177\n",
        "sindy_regular_loss of epoch 99: 9.434283091340745\n",
        "tot of epoch 99: 24.059446038518633\n",
        "\n",
        "\n",
        "conclusione la miglior batchsize sembra essere 1024 !\n"
      ]
    },
    {
      "cell_type": "code",
      "execution_count": null,
      "metadata": {
        "colab": {
          "base_uri": "https://localhost:8080/",
          "height": 281
        },
        "id": "EK0Knpr4BEb-",
        "outputId": "d14b5ec0-8037-4838-e503-99dee6d981eb"
      },
      "outputs": [
        {
          "data": {
            "image/png": "[encoded data removed]",
            "text/plain": [
              "<Figure size 432x288 with 1 Axes>"
            ]
          },
          "metadata": {},
          "output_type": "display_data"
        }
      ],
      "source": [
        "import pandas as pd\n",
        "data = pd.DataFrame.from_dict(loss_list)\n",
        "data.to_csv('./data'+str(batch_size)+'.csv')\n",
        "torch.save(model,'./model'+str(batch_size)+'.pt')\n",
        "for key in loss_list.keys():\n",
        "    plt.plot(loss_list[key],label = key)\n",
        "    plt.legend(loc = 'best')\n",
        "    plt.title('Loss con batch size di '+str(batch_size))"
      ]
    },
    {
      "cell_type": "code",
      "execution_count": null,
      "metadata": {
        "colab": {
          "base_uri": "https://localhost:8080/"
        },
        "id": "_gJS_yUTKbKn",
        "outputId": "71ac9bb5-5ae8-4eea-8b8a-545c57b7aac0"
      },
      "outputs": [
        {
          "data": {
            "text/plain": [
              "['z0',\n",
              " 'z1',\n",
              " 'sin(z0)',\n",
              " 'sin(z1)',\n",
              " 'cos(z0)',\n",
              " 'cos(z1)',\n",
              " 'z0*z1',\n",
              " 'z0*z0*z0',\n",
              " 'z0*z0*z1',\n",
              " 'z0*z1*z1',\n",
              " 'z1*z1*z1',\n",
              " 'sqrt(z0)',\n",
              " 'sqrt(z1)']"
            ]
          },
          "execution_count": 28,
          "metadata": {},
          "output_type": "execute_result"
        }
      ],
      "source": [
        "model.SINDyLibrary.get_feature_names()"
      ]
    },
    {
      "cell_type": "code",
      "execution_count": null,
      "metadata": {
        "colab": {
          "base_uri": "https://localhost:8080/"
        },
        "id": "61PhjfffFRpV",
        "outputId": "c872d124-2be1-4596-bc2c-26c1ddf9e600"
      },
      "outputs": [
        {
          "data": {
            "text/plain": [
              "tensor([[False, False],\n",
              "        [False, False],\n",
              "        [False, False],\n",
              "        [False, False],\n",
              "        [False, False],\n",
              "        [False, False],\n",
              "        [False, False],\n",
              "        [False, False],\n",
              "        [False, False],\n",
              "        [False, False],\n",
              "        [ True,  True],\n",
              "        [False, False],\n",
              "        [False, False]], device='cuda:0')"
            ]
          },
          "execution_count": 63,
          "metadata": {},
          "output_type": "execute_result"
        }
      ],
      "source": [
        "model.XI_coefficient_mask"
      ]
    },
    {
      "cell_type": "code",
      "execution_count": null,
      "metadata": {
        "colab": {
          "base_uri": "https://localhost:8080/"
        },
        "id": "5z-yuKxcFJZY",
        "outputId": "98fd3495-44c9-4dcb-d3bf-1d7e3ffe272c"
      },
      "outputs": [
        {
          "data": {
            "text/plain": [
              "Parameter containing:\n",
              "tensor([[-7.6597e-05,  7.6021e-05],\n",
              "        [-1.1938e-05, -7.5648e-05],\n",
              "        [-4.1007e-05, -3.2785e-05],\n",
              "        [ 1.4124e-05,  4.8324e-05],\n",
              "        [ 1.3394e-05,  4.8808e-05],\n",
              "        [-6.2902e-06,  9.0362e-05],\n",
              "        [-3.5040e-05, -1.1418e-05],\n",
              "        [ 5.8476e-03,  6.5331e-03],\n",
              "        [-8.4854e-06, -9.9796e-05],\n",
              "        [-9.9011e-05, -3.3356e-05],\n",
              "        [ 1.0586e-02,  1.2025e-02],\n",
              "        [ 2.1010e-05, -7.2086e-05],\n",
              "        [ 6.6925e-05, -3.4836e-05]], device='cuda:0', requires_grad=True)"
            ]
          },
          "execution_count": 29,
          "metadata": {},
          "output_type": "execute_result"
        }
      ],
      "source": [
        "model.XI"
      ]
    },
    {
      "cell_type": "code",
      "execution_count": null,
      "metadata": {
        "colab": {
          "base_uri": "https://localhost:8080/"
        },
        "id": "X8ZotQmcpyX0",
        "outputId": "32851d09-1787-46c6-99c8-df815cef4e48"
      },
      "outputs": [
        {
          "data": {
            "text/plain": [
              "array([[-0.        ,  0.        ],\n",
              "       [-0.        , -0.        ],\n",
              "       [-0.        , -0.        ],\n",
              "       [ 0.        ,  0.        ],\n",
              "       [ 0.        ,  0.        ],\n",
              "       [-0.        ,  0.        ],\n",
              "       [-0.        , -0.        ],\n",
              "       [ 0.00584755,  0.00653313],\n",
              "       [-0.        , -0.        ],\n",
              "       [-0.        , -0.        ],\n",
              "       [ 0.01058594,  0.01202497],\n",
              "       [ 0.        , -0.        ],\n",
              "       [ 0.        , -0.        ]], dtype=float32)"
            ]
          },
          "execution_count": 36,
          "metadata": {},
          "output_type": "execute_result"
        }
      ],
      "source": [
        "np.multiply(model.XI.cpu().detach().numpy(),model.XI_coefficient_mask.cpu().detach().numpy())"
      ]
    },
    {
      "cell_type": "code",
      "execution_count": null,
      "metadata": {
        "id": "k0pGzaxkqE5z"
      },
      "outputs": [],
      "source": [
        ""
      ]
    },
    {
      "cell_type": "markdown",
      "metadata": {
        "id": "26rUdKvHYVp9"
      },
      "source": [
        "# idee sul plotting\n",
        "quello che potrei fare é stampare il recupero della dinamica a seconda delle epoche di training"
      ]
    },
    {
      "cell_type": "code",
      "execution_count": null,
      "metadata": {
        "id": "sXk4xSPHrpUE"
      },
      "outputs": [],
      "source": [
        "sl = SINDyNew(latent_dim=latent_dim,\n",
        "            include_biases=False,\n",
        "            include_states=True,\n",
        "            include_sin=True,\n",
        "            include_cos=True,\n",
        "            include_multiply_pairs=True,\n",
        "            poly_order=2,\n",
        "            include_sqrt=True,\n",
        "            include_inverse=False,\n",
        "            include_sign_sqrt_of_diff=False)"
      ]
    },
    {
      "cell_type": "code",
      "execution_count": null,
      "metadata": {
        "id": "hjGUEPpIKbKp"
      },
      "outputs": [],
      "source": [
        "from scipy.integrate import odeint\n",
        "\n",
        "def pend(y, t,):\n",
        "    theta, omega = y\n",
        "    dydt = [omega, - np.sin(theta)]\n",
        "    return dydt\n",
        "\n",
        "def recon_manuale(y,t):\n",
        "    z0, z1 = y\n",
        "    dydt = [0.00584*z0**3 + 0.00653*z1**3 ,0.0105* z1**3 + 0.0120*z0**3]\n",
        "    return dydt\n",
        "\n",
        "def recon_auto(y,t):\n",
        "    n = latent_dim\n",
        "    theta = sl.transform(y.reshape((1,n))) \n",
        "    prod = np.matmul(theta,model.XI)\n",
        "    return prod.reshape((n,))\n",
        "\n",
        "def simulate(f,y0):\n",
        "    ta = 0.\n",
        "    tb = 10.\n",
        "    dt = 0.1 \n",
        "    t = np.arange(ta, tb ,dt)\n",
        "    \n",
        "    \n",
        "    sol = odeint(f, y0,t)\n",
        "    theta = sol[:,0]\n",
        "    omega = sol[:,1]\n",
        "    plt.plot(t,theta)\n",
        "    plt.plot(t,omega)\n",
        "    plt.plot(theta,omega)"
      ]
    },
    {
      "cell_type": "code",
      "execution_count": null,
      "metadata": {
        "colab": {
          "base_uri": "https://localhost:8080/",
          "height": 265
        },
        "id": "AyGbJv9uKbKr",
        "outputId": "9106f0c7-5871-4c8b-8a77-1c8f425614fd"
      },
      "outputs": [
        {
          "data": {
            "image/png": "[encoded data removed]",
            "text/plain": [
              "<Figure size 432x288 with 1 Axes>"
            ]
          },
          "metadata": {},
          "output_type": "display_data"
        }
      ],
      "source": [
        "simulate(recon_manuale,[0.5,0.5])"
      ]
    },
    {
      "cell_type": "code",
      "execution_count": null,
      "metadata": {
        "colab": {
          "base_uri": "https://localhost:8080/",
          "height": 378
        },
        "id": "obfRKpKazrna",
        "outputId": "3860ada2-8443-4fc9-8b38-4ceb22b1618c"
      },
      "outputs": [
        {
          "ename": "ValueError",
          "evalue": "ignored",
          "output_type": "error",
          "traceback": [
            "\u001b[0;31m---------------------------------------------------------------------------\u001b[0m",
            "\u001b[0;31mValueError\u001b[0m                                Traceback (most recent call last)",
            "\u001b[0;32m<ipython-input-26-af68db71729b>\u001b[0m in \u001b[0;36m<module>\u001b[0;34m()\u001b[0m\n\u001b[0;32m----> 1\u001b[0;31m \u001b[0msimulate\u001b[0m\u001b[0;34m(\u001b[0m\u001b[0mrecon_auto\u001b[0m\u001b[0;34m,\u001b[0m\u001b[0;34m[\u001b[0m\u001b[0;36m0.5\u001b[0m\u001b[0;34m,\u001b[0m\u001b[0;36m0.5\u001b[0m\u001b[0;34m]\u001b[0m\u001b[0;34m)\u001b[0m\u001b[0;34m\u001b[0m\u001b[0;34m\u001b[0m\u001b[0m\n\u001b[0m",
            "\u001b[0;32m<ipython-input-25-8e3541cb0276>\u001b[0m in \u001b[0;36msimulate\u001b[0;34m(f, y0)\u001b[0m\n\u001b[1;32m     24\u001b[0m \u001b[0;34m\u001b[0m\u001b[0m\n\u001b[1;32m     25\u001b[0m \u001b[0;34m\u001b[0m\u001b[0m\n\u001b[0;32m---> 26\u001b[0;31m     \u001b[0msol\u001b[0m \u001b[0;34m=\u001b[0m \u001b[0modeint\u001b[0m\u001b[0;34m(\u001b[0m\u001b[0mf\u001b[0m\u001b[0;34m,\u001b[0m \u001b[0my0\u001b[0m\u001b[0;34m,\u001b[0m\u001b[0mt\u001b[0m\u001b[0;34m)\u001b[0m\u001b[0;34m\u001b[0m\u001b[0;34m\u001b[0m\u001b[0m\n\u001b[0m\u001b[1;32m     27\u001b[0m     \u001b[0mtheta\u001b[0m \u001b[0;34m=\u001b[0m \u001b[0msol\u001b[0m\u001b[0;34m[\u001b[0m\u001b[0;34m:\u001b[0m\u001b[0;34m,\u001b[0m\u001b[0;36m0\u001b[0m\u001b[0;34m]\u001b[0m\u001b[0;34m\u001b[0m\u001b[0;34m\u001b[0m\u001b[0m\n\u001b[1;32m     28\u001b[0m     \u001b[0momega\u001b[0m \u001b[0;34m=\u001b[0m \u001b[0msol\u001b[0m\u001b[0;34m[\u001b[0m\u001b[0;34m:\u001b[0m\u001b[0;34m,\u001b[0m\u001b[0;36m1\u001b[0m\u001b[0;34m]\u001b[0m\u001b[0;34m\u001b[0m\u001b[0;34m\u001b[0m\u001b[0m\n",
            "\u001b[0;32m/usr/local/lib/python3.7/dist-packages/scipy/integrate/odepack.py\u001b[0m in \u001b[0;36modeint\u001b[0;34m(func, y0, t, args, Dfun, col_deriv, full_output, ml, mu, rtol, atol, tcrit, h0, hmax, hmin, ixpr, mxstep, mxhnil, mxordn, mxords, printmessg, tfirst)\u001b[0m\n\u001b[1;32m    243\u001b[0m                              \u001b[0mfull_output\u001b[0m\u001b[0;34m,\u001b[0m \u001b[0mrtol\u001b[0m\u001b[0;34m,\u001b[0m \u001b[0matol\u001b[0m\u001b[0;34m,\u001b[0m \u001b[0mtcrit\u001b[0m\u001b[0;34m,\u001b[0m \u001b[0mh0\u001b[0m\u001b[0;34m,\u001b[0m \u001b[0mhmax\u001b[0m\u001b[0;34m,\u001b[0m \u001b[0mhmin\u001b[0m\u001b[0;34m,\u001b[0m\u001b[0;34m\u001b[0m\u001b[0;34m\u001b[0m\u001b[0m\n\u001b[1;32m    244\u001b[0m                              \u001b[0mixpr\u001b[0m\u001b[0;34m,\u001b[0m \u001b[0mmxstep\u001b[0m\u001b[0;34m,\u001b[0m \u001b[0mmxhnil\u001b[0m\u001b[0;34m,\u001b[0m \u001b[0mmxordn\u001b[0m\u001b[0;34m,\u001b[0m \u001b[0mmxords\u001b[0m\u001b[0;34m,\u001b[0m\u001b[0;34m\u001b[0m\u001b[0;34m\u001b[0m\u001b[0m\n\u001b[0;32m--> 245\u001b[0;31m                              int(bool(tfirst)))\n\u001b[0m\u001b[1;32m    246\u001b[0m     \u001b[0;32mif\u001b[0m \u001b[0moutput\u001b[0m\u001b[0;34m[\u001b[0m\u001b[0;34m-\u001b[0m\u001b[0;36m1\u001b[0m\u001b[0;34m]\u001b[0m \u001b[0;34m<\u001b[0m \u001b[0;36m0\u001b[0m\u001b[0;34m:\u001b[0m\u001b[0;34m\u001b[0m\u001b[0;34m\u001b[0m\u001b[0m\n\u001b[1;32m    247\u001b[0m         \u001b[0mwarning_msg\u001b[0m \u001b[0;34m=\u001b[0m \u001b[0m_msgs\u001b[0m\u001b[0;34m[\u001b[0m\u001b[0moutput\u001b[0m\u001b[0;34m[\u001b[0m\u001b[0;34m-\u001b[0m\u001b[0;36m1\u001b[0m\u001b[0;34m]\u001b[0m\u001b[0;34m]\u001b[0m \u001b[0;34m+\u001b[0m \u001b[0;34m\" Run with full_output = 1 to get quantitative information.\"\u001b[0m\u001b[0;34m\u001b[0m\u001b[0;34m\u001b[0m\u001b[0m\n",
            "\u001b[0;32m<ipython-input-25-8e3541cb0276>\u001b[0m in \u001b[0;36mrecon_auto\u001b[0;34m(y, t)\u001b[0m\n\u001b[1;32m     13\u001b[0m \u001b[0;32mdef\u001b[0m \u001b[0mrecon_auto\u001b[0m\u001b[0;34m(\u001b[0m\u001b[0my\u001b[0m\u001b[0;34m,\u001b[0m\u001b[0mt\u001b[0m\u001b[0;34m)\u001b[0m\u001b[0;34m:\u001b[0m\u001b[0;34m\u001b[0m\u001b[0;34m\u001b[0m\u001b[0m\n\u001b[1;32m     14\u001b[0m     \u001b[0mn\u001b[0m \u001b[0;34m=\u001b[0m \u001b[0mlatent_dim\u001b[0m\u001b[0;34m\u001b[0m\u001b[0;34m\u001b[0m\u001b[0m\n\u001b[0;32m---> 15\u001b[0;31m     \u001b[0mtheta\u001b[0m \u001b[0;34m=\u001b[0m \u001b[0msl\u001b[0m\u001b[0;34m.\u001b[0m\u001b[0mtransform\u001b[0m\u001b[0;34m(\u001b[0m\u001b[0my\u001b[0m\u001b[0;34m.\u001b[0m\u001b[0mreshape\u001b[0m\u001b[0;34m(\u001b[0m\u001b[0;34m(\u001b[0m\u001b[0;36m1\u001b[0m\u001b[0;34m,\u001b[0m\u001b[0mn\u001b[0m\u001b[0;34m)\u001b[0m\u001b[0;34m)\u001b[0m\u001b[0;34m)\u001b[0m\u001b[0;34m\u001b[0m\u001b[0;34m\u001b[0m\u001b[0m\n\u001b[0m\u001b[1;32m     16\u001b[0m     \u001b[0mprod\u001b[0m \u001b[0;34m=\u001b[0m \u001b[0mnp\u001b[0m\u001b[0;34m.\u001b[0m\u001b[0mmatmul\u001b[0m\u001b[0;34m(\u001b[0m\u001b[0mtheta\u001b[0m\u001b[0;34m,\u001b[0m\u001b[0mmodel\u001b[0m\u001b[0;34m.\u001b[0m\u001b[0mXI\u001b[0m\u001b[0;34m)\u001b[0m\u001b[0;34m\u001b[0m\u001b[0;34m\u001b[0m\u001b[0m\n\u001b[1;32m     17\u001b[0m     \u001b[0;32mreturn\u001b[0m \u001b[0mprod\u001b[0m\u001b[0;34m.\u001b[0m\u001b[0mreshape\u001b[0m\u001b[0;34m(\u001b[0m\u001b[0;34m(\u001b[0m\u001b[0mn\u001b[0m\u001b[0;34m,\u001b[0m\u001b[0;34m)\u001b[0m\u001b[0;34m)\u001b[0m\u001b[0;34m\u001b[0m\u001b[0;34m\u001b[0m\u001b[0m\n",
            "\u001b[0;32m/content/SindyPendulum/sindy_library_numpy.py\u001b[0m in \u001b[0;36mtransform\u001b[0;34m(self, z)\u001b[0m\n\u001b[1;32m    140\u001b[0m     \u001b[0;32mdef\u001b[0m \u001b[0mtransform\u001b[0m\u001b[0;34m(\u001b[0m\u001b[0mself\u001b[0m\u001b[0;34m,\u001b[0m \u001b[0mz\u001b[0m\u001b[0;34m)\u001b[0m\u001b[0;34m:\u001b[0m\u001b[0;34m\u001b[0m\u001b[0;34m\u001b[0m\u001b[0m\n\u001b[1;32m    141\u001b[0m       \u001b[0mtheta\u001b[0m \u001b[0;34m=\u001b[0m \u001b[0;34m[\u001b[0m\u001b[0mcand_func\u001b[0m\u001b[0;34m(\u001b[0m\u001b[0mz\u001b[0m\u001b[0;34m)\u001b[0m \u001b[0;32mfor\u001b[0m \u001b[0mcand_func\u001b[0m \u001b[0;32min\u001b[0m \u001b[0mself\u001b[0m\u001b[0;34m.\u001b[0m\u001b[0mcandidate_functions\u001b[0m\u001b[0;34m]\u001b[0m\u001b[0;34m\u001b[0m\u001b[0;34m\u001b[0m\u001b[0m\n\u001b[0;32m--> 142\u001b[0;31m       \u001b[0mout\u001b[0m \u001b[0;34m=\u001b[0m  \u001b[0mnp\u001b[0m\u001b[0;34m.\u001b[0m\u001b[0mconcatenate\u001b[0m\u001b[0;34m(\u001b[0m\u001b[0mtheta\u001b[0m\u001b[0;34m,\u001b[0m\u001b[0maxis\u001b[0m\u001b[0;34m=\u001b[0m\u001b[0;36m0\u001b[0m\u001b[0;34m)\u001b[0m\u001b[0;34m\u001b[0m\u001b[0;34m\u001b[0m\u001b[0m\n\u001b[0m\u001b[1;32m    143\u001b[0m       \u001b[0;32mreturn\u001b[0m \u001b[0mout\u001b[0m\u001b[0;34m\u001b[0m\u001b[0;34m\u001b[0m\u001b[0m\n\u001b[1;32m    144\u001b[0m \u001b[0;34m\u001b[0m\u001b[0m\n",
            "\u001b[0;32m<__array_function__ internals>\u001b[0m in \u001b[0;36mconcatenate\u001b[0;34m(*args, **kwargs)\u001b[0m\n",
            "\u001b[0;31mValueError\u001b[0m: all the input array dimensions for the concatenation axis must match exactly, but along dimension 1, the array at index 0 has size 2 and the array at index 3 has size 1"
          ]
        }
      ],
      "source": [
        "simulate(recon_auto,[0.5,0.5])"
      ]
    },
    {
      "cell_type": "code",
      "execution_count": null,
      "metadata": {
        "colab": {
          "base_uri": "https://localhost:8080/",
          "height": 265
        },
        "id": "xu4WqRLqXyY9",
        "outputId": "0480c3aa-ad8b-472d-866a-fbbdf4e90a20"
      },
      "outputs": [
        {
          "data": {
            "image/png": "[encoded data removed]",
            "text/plain": [
              "<Figure size 432x288 with 1 Axes>"
            ]
          },
          "metadata": {},
          "output_type": "display_data"
        }
      ],
      "source": [
        "simulate(pend,[0.5,0.5])"
      ]
    },
    {
      "cell_type": "code",
      "execution_count": null,
      "metadata": {
        "id": "26HW69W2XyWa"
      },
      "outputs": [],
      "source": [
        ""
      ]
    },
    {
      "cell_type": "code",
      "execution_count": null,
      "metadata": {
        "id": "3rAQq7zKXyTc"
      },
      "outputs": [],
      "source": [
        ""
      ]
    },
    {
      "cell_type": "code",
      "execution_count": null,
      "metadata": {
        "id": "BkbHkgIDKbKq"
      },
      "outputs": [],
      "source": [
        "simulate_torch(recon,[0.5,0.5])"
      ]
    },
    {
      "cell_type": "code",
      "execution_count": null,
      "metadata": {
        "id": "cmRiq82-KbKq"
      },
      "outputs": [],
      "source": [
        "def simulate_torch(f,y0):\n",
        "    ta = 0.\n",
        "    tb = 10.\n",
        "    dt = 0.1 \n",
        "    t = torch.arange(ta, tb ,dt)\n",
        "    \n",
        "    #y0 = [ics[idx][0], ics[idx][1]]\n",
        "    sol = odeint(f, y0,t)\n",
        "    theta = sol[:,0]\n",
        "    omega = sol[:,1]\n",
        "    plt.plot(t,theta)"
      ]
    },
    {
      "cell_type": "code",
      "execution_count": null,
      "metadata": {
        "id": "cYVKkPH9KbKq"
      },
      "outputs": [],
      "source": [
        ""
      ]
    },
    {
      "cell_type": "code",
      "execution_count": null,
      "metadata": {
        "id": "NteNPuMgKbKq"
      },
      "outputs": [],
      "source": [
        "simulate(pend,[0.5,0.5])"
      ]
    },
    {
      "cell_type": "markdown",
      "metadata": {
        "id": "hwba4c-em6dS"
      },
      "source": [
        "# plotting "
      ]
    },
    {
      "cell_type": "code",
      "execution_count": null,
      "metadata": {
        "id": "K96cKeIluSUd"
      },
      "outputs": [],
      "source": [
        "x = X[:,:,0]\n",
        "x.shape\n"
      ]
    },
    {
      "cell_type": "code",
      "execution_count": null,
      "metadata": {
        "id": "WI2-nbvzj-fh"
      },
      "outputs": [],
      "source": [
        "x = X[1][:,0]\n",
        "y = X[2][:,1]\n",
        "z = X[3][:,2]"
      ]
    },
    {
      "cell_type": "code",
      "execution_count": null,
      "metadata": {
        "id": "8accQ15cpQVh"
      },
      "outputs": [],
      "source": [
        "xdot = Xdot[1][:,0]\n",
        "ydot = Xdot[2][:,1]\n",
        "zdot = Xdot[3][:,2]"
      ]
    },
    {
      "cell_type": "code",
      "execution_count": null,
      "metadata": {
        "id": "anQRvsmTc9QT"
      },
      "outputs": [],
      "source": [
        "fig1 = plt.figure(figsize=(10,10))\n",
        "ax1 = fig1.add_subplot(111, projection='3d')\n",
        "ax1.plot(x,y,z,linewidth=2)\n",
        "ax1.view_init(azim=120)"
      ]
    },
    {
      "cell_type": "code",
      "execution_count": null,
      "metadata": {
        "id": "m8FIHJMMgwTc"
      },
      "outputs": [],
      "source": [
        "fig1 = plt.figure(figsize=(18,6))\n",
        "ax1 = fig1.add_subplot(131)\n",
        "ax1.plot(t,x)\n",
        "ax1.plot(t,xdot,'r')\n",
        "\n",
        "ax2 = fig1.add_subplot(132)\n",
        "ax2.plot(t,y)\n",
        "ax2.plot(t,ydot,'r')\n",
        "\n",
        "\n",
        "ax3 = fig1.add_subplot(133)\n",
        "ax3.plot(t,z)\n",
        "ax3.plot(t,zdot,'r')\n"
      ]
    }
  ],
  "metadata": {
    "accelerator": "GPU",
    "colab": {
      "collapsed_sections": [],
      "name": "pendulum_updated.ipynb",
      "provenance": []
    },
    "kernelspec": {
      "display_name": "Python 3",
      "language": "python",
      "name": "python3"
    },
    "language_info": {
      "codemirror_mode": {
        "name": "ipython",
        "version": 3
      },
      "file_extension": ".py",
      "mimetype": "text/x-python",
      "name": "python",
      "nbconvert_exporter": "python",
      "pygments_lexer": "ipython3",
      "version": "3.7.12"
    }
  },
  "nbformat": 4,
  "nbformat_minor": 0
}