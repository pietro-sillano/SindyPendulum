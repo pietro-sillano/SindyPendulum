{
 "cells": [
  {
   "cell_type": "code",
   "execution_count": 4,
   "id": "8d02ebd3",
   "metadata": {},
   "outputs": [],
   "source": [
    "import matplotlib.pyplot as plt\n",
    "import matplotlib\n",
    "import numpy as np"
   ]
  },
  {
   "cell_type": "code",
   "execution_count": 1,
   "id": "09ec83bf",
   "metadata": {},
   "outputs": [
    {
     "name": "stdout",
     "output_type": "stream",
     "text": [
      "0  su  48\n",
      "(4800, 2601)\n",
      "condizioni iniziali valide:  48\n"
     ]
    }
   ],
   "source": [
    "!python ../data_pendulum_image.py  -i 10"
   ]
  },
  {
   "cell_type": "code",
   "execution_count": 5,
   "id": "2d875851",
   "metadata": {},
   "outputs": [],
   "source": [
    "X = np.load('X.npy')\n",
    "Xdot = np.load('Xdot.npy')"
   ]
  },
  {
   "cell_type": "code",
   "execution_count": 10,
   "id": "19aeb6c6",
   "metadata": {},
   "outputs": [],
   "source": [
    "X = X.reshape((-1,51,51))\n",
    "Xdot = Xdot.reshape((-1,51,51))"
   ]
  },
  {
   "cell_type": "code",
   "execution_count": 7,
   "id": "8899c534",
   "metadata": {},
   "outputs": [
    {
     "data": {
      "text/plain": [
       "((4800, 51, 51), (4800, 2601))"
      ]
     },
     "execution_count": 7,
     "metadata": {},
     "output_type": "execute_result"
    }
   ],
   "source": [
    "X.shape,Xdot.shape"
   ]
  },
  {
   "cell_type": "markdown",
   "id": "b39ec3b3",
   "metadata": {},
   "source": [
    "# Plot pendulum"
   ]
  },
  {
   "cell_type": "code",
   "execution_count": 28,
   "id": "3814240e",
   "metadata": {},
   "outputs": [
    {
     "data": {
      "text/plain": [
       "<matplotlib.image.AxesImage at 0x7fbd1b2516a0>"
      ]
     },
     "execution_count": 28,
     "metadata": {},
     "output_type": "execute_result"
    },
    {
     "data": {
      "image/png": "[encoded data removed]",
      "text/plain": [
       "<Figure size 720x720 with 3 Axes>"
      ]
     },
     "metadata": {
      "needs_background": "light"
     },
     "output_type": "display_data"
    }
   ],
   "source": [
    "fig = plt.figure(figsize=(10,10))  # a new figure window\n",
    "ax1 = fig.add_subplot(1, 3, 1)  # specify (nrows, ncols, axnum)\n",
    "ax2 = fig.add_subplot(1, 3, 2)  # specify (nrows, ncols, axnum)\n",
    "ax3 = fig.add_subplot(1, 3, 3)  # specify (nrows, ncols, axnum)\n",
    "\n",
    "ax1.imshow(X[78],cmap = 'plasma',interpolation = 'none')\n",
    "#plt.title('Motion of the Pendulum',fontsize=18,loc = 'left')\n",
    "ax2.imshow(X[85],cmap = 'plasma',interpolation = 'none')\n",
    "ax3.imshow(X[90],cmap = 'plasma',interpolation = 'none')\n",
    "\n"
   ]
  },
  {
   "cell_type": "markdown",
   "id": "28be7560-a811-4d97-86bf-3316d76a48c0",
   "metadata": {},
   "source": [
    "# Video Pendulum"
   ]
  },
  {
   "cell_type": "code",
   "execution_count": null,
   "id": "225debc4-fffd-4fec-83e1-e09aee325f20",
   "metadata": {},
   "outputs": [],
   "source": []
  }
 ],
 "metadata": {
  "kernelspec": {
   "display_name": "Python 3 (ipykernel)",
   "language": "python",
   "name": "python3"
  },
  "language_info": {
   "codemirror_mode": {
    "name": "ipython",
    "version": 3
   },
   "file_extension": ".py",
   "mimetype": "text/x-python",
   "name": "python",
   "nbconvert_exporter": "python",
   "pygments_lexer": "ipython3",
   "version": "3.10.2"
  }
 },
 "nbformat": 4,
 "nbformat_minor": 5
}
