{
 "cells": [
  {
   "cell_type": "code",
   "execution_count": 1,
   "id": "c59378d3-96ea-4fcd-a14b-92f499f427ad",
   "metadata": {},
   "outputs": [
    {
     "ename": "ModuleNotFoundError",
     "evalue": "No module named 'sindy_library'",
     "output_type": "error",
     "traceback": [
      "\u001b[0;31m---------------------------------------------------------------------------\u001b[0m",
      "\u001b[0;31mModuleNotFoundError\u001b[0m                       Traceback (most recent call last)",
      "Input \u001b[0;32mIn [1]\u001b[0m, in \u001b[0;36m<module>\u001b[0;34m\u001b[0m\n\u001b[1;32m     13\u001b[0m \u001b[38;5;28;01mif\u001b[39;00m syspath \u001b[38;5;129;01mnot\u001b[39;00m \u001b[38;5;129;01min\u001b[39;00m sys\u001b[38;5;241m.\u001b[39mpath:\n\u001b[1;32m     14\u001b[0m     sys\u001b[38;5;241m.\u001b[39mpath\u001b[38;5;241m.\u001b[39mappend(syspath)\n\u001b[0;32m---> 16\u001b[0m \u001b[38;5;28;01mfrom\u001b[39;00m \u001b[38;5;21;01msindy_library\u001b[39;00m \u001b[38;5;28;01mimport\u001b[39;00m SINDyLibrary\n",
      "\u001b[0;31mModuleNotFoundError\u001b[0m: No module named 'sindy_library'"
     ]
    }
   ],
   "source": [
    "import os\n",
    "import argparse, sys\n",
    "import pandas as pd\n",
    "import numpy as np\n",
    "from scipy.integrate import odeint\n",
    "import matplotlib.pyplot as plt\n",
    "import torch\n",
    "import torch.nn as nn\n",
    "from torch.utils.data import Dataset, DataLoader, TensorDataset\n",
    "import numpy as np\n",
    "import sys\n",
    "syspath = 'SindyPendulum/'\n",
    "if syspath not in sys.path:\n",
    "    sys.path.append(syspath)\n",
    "    \n",
    "from sindy_library import SINDyLibrary"
   ]
  },
  {
   "cell_type": "code",
   "execution_count": 2,
   "id": "0281a1a8-240e-45d0-88ed-85d03781592d",
   "metadata": {},
   "outputs": [],
   "source": [
    "from network import Autoencoder"
   ]
  },
  {
   "cell_type": "code",
   "execution_count": 3,
   "id": "cde86aa3-12d2-4973-878b-a2031ff156b8",
   "metadata": {},
   "outputs": [],
   "source": [
    "from data_gen import *"
   ]
  },
  {
   "cell_type": "code",
   "execution_count": 4,
   "id": "8b007716-ad98-4d5d-bc74-194eb7a72334",
   "metadata": {},
   "outputs": [
    {
     "name": "stdout",
     "output_type": "stream",
     "text": [
      "Using cuda device\n"
     ]
    }
   ],
   "source": [
    "# Get cpu or gpu device for training.\n",
    "device = \"cuda\" if torch.cuda.is_available() else \"cpu\"\n",
    "print(\"Using {} device\".format(device))"
   ]
  },
  {
   "cell_type": "code",
   "execution_count": 5,
   "id": "9f447798-b4c7-47f6-848a-54e8caa24e2c",
   "metadata": {},
   "outputs": [
    {
     "name": "stdout",
     "output_type": "stream",
     "text": [
      "0  su  8\n"
     ]
    }
   ],
   "source": [
    "n_ics = 5\n",
    "\n",
    "X,Xdot = create_data(n_ics)"
   ]
  },
  {
   "cell_type": "code",
   "execution_count": 6,
   "id": "bd955f4b-77d7-43c8-91db-2a33399a2461",
   "metadata": {},
   "outputs": [
    {
     "name": "stdout",
     "output_type": "stream",
     "text": [
      "torch.Size([800, 2601]) torch.Size([800, 2601]) torch.float32\n",
      "720 80\n"
     ]
    }
   ],
   "source": [
    "train_loader, val_loader = create_dataset(X,Xdot, device,batch_size = 1024)"
   ]
  },
  {
   "cell_type": "code",
   "execution_count": 7,
   "id": "fae7e227-e802-43fd-a55d-611d5dab22b9",
   "metadata": {},
   "outputs": [
    {
     "name": "stdout",
     "output_type": "stream",
     "text": [
      "Encoder(\n",
      "  (fc1): Linear(in_features=2601, out_features=128, bias=True)\n",
      "  (fc2): Linear(in_features=128, out_features=64, bias=True)\n",
      "  (fc3): Linear(in_features=64, out_features=32, bias=True)\n",
      "  (fc4): Linear(in_features=32, out_features=2, bias=True)\n",
      ")\n",
      "Linear(in_features=2601, out_features=128, bias=True)\n",
      "Linear(in_features=128, out_features=64, bias=True)\n",
      "Linear(in_features=64, out_features=32, bias=True)\n",
      "Linear(in_features=32, out_features=2, bias=True)\n"
     ]
    }
   ],
   "source": [
    "input_size = X.shape[1]\n",
    "latent_dim = 2\n",
    "model = Autoencoder(input_size,latent_dim).to(device)"
   ]
  },
  {
   "cell_type": "code",
   "execution_count": null,
   "id": "1cacad0c-cebf-44aa-8b38-bd160ba92a53",
   "metadata": {},
   "outputs": [],
   "source": []
  }
 ],
 "metadata": {
  "kernelspec": {
   "display_name": "Python 3 (ipykernel)",
   "language": "python",
   "name": "python3"
  },
  "language_info": {
   "codemirror_mode": {
    "name": "ipython",
    "version": 3
   },
   "file_extension": ".py",
   "mimetype": "text/x-python",
   "name": "python",
   "nbconvert_exporter": "python",
   "pygments_lexer": "ipython3",
   "version": "3.10.2"
  }
 },
 "nbformat": 4,
 "nbformat_minor": 5
}
