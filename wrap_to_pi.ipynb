{
 "cells": [
  {
   "cell_type": "code",
   "execution_count": 12,
   "id": "202bc850",
   "metadata": {},
   "outputs": [],
   "source": [
    "import os\n",
    "import argparse, sys\n",
    "import numpy as np\n",
    "from scipy.integrate import odeint\n",
    "\n",
    "def pend(y, t,):\n",
    "    theta, omega = y\n",
    "    dydt = [omega, - np.sin(theta)]\n",
    "    return dydt\n",
    "\n",
    "def pend_damp(y, t,):\n",
    "    theta, omega = y\n",
    "    dydt = [omega, - np.sin(theta)-0.1*omega]\n",
    "    return dydt\n",
    "\n",
    "def select_ics(theta0,omegaics0):\n",
    "    ics = []\n",
    "    for i in range(n_ics):\n",
    "        for j in range(n_ics):\n",
    "            lim = (np.abs((omega0[j]**2)/2 - np.cos(theta0[i])))\n",
    "            if lim <  0.99 :\n",
    "                ics.append((theta0[i],omega0[j]))\n",
    "    return ics\n",
    "\n",
    "def wrap_to_pi(z):\n",
    "    z_mod = z % (2*np.pi)\n",
    "    subtract_m = (z_mod > np.pi) * (-2*np.pi)\n",
    "    return z_mod + subtract_m\n",
    "\n",
    "def image_gen(ics):\n",
    "    x = np.linspace(-1.5, 1.5, NX)\n",
    "    y = np.linspace(-1.5, 1.5, NY)\n",
    "    xx,yy = np.meshgrid(x, y)\n",
    "\n",
    "\n",
    "    data = np.empty([len(ics), len(t), len(x), len(y)],dtype = np.float32)\n",
    "    data2 = np.empty([len(ics), len(t), len(x), len(y)],dtype = np.float32)\n",
    "\n",
    "\n",
    "    for idx in range(len(ics)):\n",
    "        if(idx%100==0): print(idx,' su ', len(ics))\n",
    "        y0 = [ics[idx][0], ics[idx][1]]\n",
    "        sol = odeint(pend, y0,t)\n",
    "        theta = sol[:,0]\n",
    "        omega = sol[:,1]\n",
    "        print(max(theta))\n",
    "        temp = []\n",
    "        for i in range(len(theta)):\n",
    "            z = np.exp(- 20 *((xx - np.cos(theta[i] + np.pi/2))*(xx - \n",
    "                np.cos(theta[i] +np.pi/2))) - 20 * ((yy -np.sin(theta[i]+np.pi/2))*(yy -np.sin(theta[i]+np.pi/2))))\n",
    "            z = ((z - np.min(z))/(np.max(z)-np.min(z)))\n",
    "\n",
    "            temp.append(z)\n",
    "        data[idx] = np.array(temp)\n",
    "        \n",
    "        temp = []\n",
    "        for i in range(len(omega)):\n",
    "            exp = np.exp(- 20 *((xx - np.cos(omega[i] + np.pi/2))*(xx - \n",
    "                np.cos(omega[i] +np.pi/2))) - 20 * ((yy -np.sin(omega[i]+np.pi/2))*(yy -np.sin(omega[i]+np.pi/2))))\n",
    "\n",
    "            z = -20*(2*(xx - np.cos(theta[i]-np.pi/2))*np.sin(theta[i]-np.pi/2)*omega[i] \n",
    "                        + 2*(yy - np.sin(theta[i]-np.pi/2))*(-np.cos(theta[i]-np.pi/2))*omega[i])\n",
    "            z = z*exp\n",
    "            z = ((z - np.min(z))/(np.max(z)-np.min(z)))\n",
    "\n",
    "            temp.append(z)\n",
    "        data2[idx] = np.array(temp)\n",
    "        \n",
    "    return data,data2"
   ]
  },
  {
   "cell_type": "code",
   "execution_count": 13,
   "id": "89ea55a9",
   "metadata": {},
   "outputs": [
    {
     "name": "stdout",
     "output_type": "stream",
     "text": [
      "0  su  28\n",
      "2.2964315102936497\n",
      "2.302931523365327\n",
      "-0.26798332051044205\n",
      "1.7542347676736891\n",
      "1.392058781250655\n",
      "1.3922181731906385\n",
      "1.754050279302099\n",
      "2.696168524625678\n",
      "1.5911858533961094\n",
      "1.0518428881909678\n",
      "0.5433259167721869\n",
      "0.5433335061480165\n",
      "1.0518460552461335\n",
      "1.7967385990820735\n",
      "1.053329776997493\n",
      "0.9109488513432804\n",
      "0.4487989505128276\n",
      "0.5433299046887049\n",
      "1.0516037993648484\n",
      "1.7965117600558485\n",
      "1.3463968515384828\n",
      "1.3463968515384828\n",
      "1.3463968515384828\n",
      "1.3923132517714483\n",
      "1.7542742734710688\n",
      "2.696221767202715\n",
      "2.243994752564138\n",
      "2.302968188100601\n"
     ]
    }
   ],
   "source": [
    "n_ics=8\n",
    "    \n",
    "#COSTANTI e PARAMETRI\n",
    "ta = 0.\n",
    "tb = 5.\n",
    "dt = 0.05  \n",
    "# tb = 10\n",
    "# dt = 0.1\n",
    "NX = 51\n",
    "NY = 51\n",
    "\n",
    "\n",
    "t = np.arange(ta, tb ,dt)\n",
    "theta0 = np.linspace(-np.pi,np.pi,n_ics)\n",
    "omega0 = np.linspace(-2.1, 2.1,n_ics)\n",
    "\n",
    "ics = select_ics(theta0,omega0)\n",
    "data,data2 = image_gen(ics)\n",
    "\n",
    "\n",
    "#questo reshape serve per mandare al autoencoder delle immagini flat\n",
    "#TODO verifica che sia corretto questo rehsape --> dovrebb essere ok fatto prova su colab\n",
    "data = data.reshape((len(ics) * len(t),NX * NY))\n",
    "data2 = data2.reshape((len(ics) * len(t),NX * NY))\n",
    "\n",
    "X = data\n",
    "Xdot = data2\n"
   ]
  },
  {
   "cell_type": "code",
   "execution_count": 11,
   "id": "ef565ad2",
   "metadata": {},
   "outputs": [
    {
     "data": {
      "text/plain": [
       "array([-3.14159265, -2.24399475, -1.34639685, -0.44879895,  0.44879895,\n",
       "        1.34639685,  2.24399475,  3.14159265])"
      ]
     },
     "execution_count": 11,
     "metadata": {},
     "output_type": "execute_result"
    }
   ],
   "source": [
    "theta0"
   ]
  },
  {
   "cell_type": "code",
   "execution_count": null,
   "id": "c50da8b8",
   "metadata": {},
   "outputs": [],
   "source": [
    "def wrap_to_pi(z):\n",
    "    z_mod = z % (2*np.pi)\n",
    "    subtract_m = (z_mod > np.pi) * (-2*np.pi)\n",
    "    return z_mod + subtract_m"
   ]
  },
  {
   "cell_type": "code",
   "execution_count": 9,
   "id": "258a0295",
   "metadata": {},
   "outputs": [
    {
     "data": {
      "text/plain": [
       "1.0471975511965974"
      ]
     },
     "execution_count": 9,
     "metadata": {},
     "output_type": "execute_result"
    }
   ],
   "source": [
    "wrap_to_pi(theta)"
   ]
  },
  {
   "cell_type": "code",
   "execution_count": null,
   "id": "b3e70a8b",
   "metadata": {},
   "outputs": [],
   "source": []
  }
 ],
 "metadata": {
  "kernelspec": {
   "display_name": "Python 3",
   "language": "python",
   "name": "python3"
  },
  "language_info": {
   "codemirror_mode": {
    "name": "ipython",
    "version": 3
   },
   "file_extension": ".py",
   "mimetype": "text/x-python",
   "name": "python",
   "nbconvert_exporter": "python",
   "pygments_lexer": "ipython3",
   "version": "3.7.3"
  }
 },
 "nbformat": 4,
 "nbformat_minor": 5
}
